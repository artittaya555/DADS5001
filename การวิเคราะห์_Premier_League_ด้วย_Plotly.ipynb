{
  "nbformat": 4,
  "nbformat_minor": 0,
  "metadata": {
    "colab": {
      "provenance": [],
      "authorship_tag": "ABX9TyP2ldWLQpMREjcYD2ccvQOV",
      "include_colab_link": true
    },
    "kernelspec": {
      "name": "python3",
      "display_name": "Python 3"
    },
    "language_info": {
      "name": "python"
    }
  },
  "cells": [
    {
      "cell_type": "markdown",
      "metadata": {
        "id": "view-in-github",
        "colab_type": "text"
      },
      "source": [
        "<a href=\"https://colab.research.google.com/github/artittaya555/DADS5001/blob/main/%E0%B8%81%E0%B8%B2%E0%B8%A3%E0%B8%A7%E0%B8%B4%E0%B9%80%E0%B8%84%E0%B8%A3%E0%B8%B2%E0%B8%B0%E0%B8%AB%E0%B9%8C_Premier_League_%E0%B8%94%E0%B9%89%E0%B8%A7%E0%B8%A2_Plotly.ipynb\" target=\"_parent\"><img src=\"https://colab.research.google.com/assets/colab-badge.svg\" alt=\"Open In Colab\"/></a>"
      ]
    },
    {
      "cell_type": "markdown",
      "source": [
        "# การวิเคราะห์ Premier League ด้วย Plotly\n"
      ],
      "metadata": {
        "id": "5Kh-CNmd2q64"
      }
    },
    {
      "cell_type": "markdown",
      "source": [
        "การวิเคราะห์นี้เป็นส่วนหนึ่งของวิชา DADS 5001 เครื่องมือและการเขียนโปรแกรมสำหรับการวิเคราะห์ข้อมูลและวิทยาการข้อมูล\" (Data Analytics and Data Science Tools and Programming)\n",
        "\n",
        "โดย 6720422003 อาทิตยา พุทธโอวาท"
      ],
      "metadata": {
        "id": "rJt5WQIJ2QFE"
      }
    },
    {
      "cell_type": "code",
      "execution_count": 12,
      "metadata": {
        "colab": {
          "base_uri": "https://localhost:8080/"
        },
        "id": "b1Msa2PN0eaa",
        "outputId": "b98f0ef5-1ca0-4afe-e768-53e79b937acd"
      },
      "outputs": [
        {
          "output_type": "stream",
          "name": "stdout",
          "text": [
            "   Rk             Team  MP  W  D  L  GF  GA  GD  Pts  Pts/MP    xG   xGA  xGD  \\\n",
            "0   1          Arsenal   9  7  1  1  16   3  13   22    2.44  14.6   5.2  9.3   \n",
            "1   2      Bournemouth   9  5  1  3  16  11   5   18    2.00  11.0  11.1 -0.1   \n",
            "2   3        Tottenham   9  5  2  2  17  10   7   17    1.89   9.9  10.7 -0.8   \n",
            "3   4       Sunderland   9  5  2  2  15  11   4   17    1.89  10.5  10.4  0.1   \n",
            "4   5  Manchester City   9  5  1  3  17   7  10   16    1.78  15.9   9.0  6.6   \n",
            "\n",
            "   xGD/90  Last5  Attendance                         Top Scorer  \\\n",
            "0    1.04  WWDWW       60144                Viktor Gyökeres - 3   \n",
            "1   -0.01  DWDWL       11164                Antoine Semenyo - 6   \n",
            "2   -0.09  DDWLW       61039  Richarlison, Micky van de Ven - 3   \n",
            "3   -0.02  DWLWW       46335                  Wilson Isidor - 4   \n",
            "4    0.74  WLWLW       52311                Erling Haaland - 11   \n",
            "\n",
            "             Goalkeeper  \n",
            "0            David Raya  \n",
            "1        Đorđe Petrović  \n",
            "2     Guglielmo Vicario  \n",
            "3           Robin Roefs  \n",
            "4  Gianluigi Donnarumma  \n"
          ]
        }
      ],
      "source": [
        "import pandas as pd\n",
        "\n",
        "data = [\n",
        "    {\"Rk\": 1, \"Team\": \"Arsenal\", \"MP\": 9, \"W\": 7, \"D\": 1, \"L\": 1, \"GF\": 16, \"GA\": 3, \"GD\": 13, \"Pts\": 22,\n",
        "     \"Pts/MP\": 2.44, \"xG\": 14.6, \"xGA\": 5.2, \"xGD\": 9.3, \"xGD/90\": 1.04, \"Last5\": \"WWDWW\",\n",
        "     \"Attendance\": 60144, \"Top Scorer\": \"Viktor Gyökeres - 3\", \"Goalkeeper\": \"David Raya\"},\n",
        "\n",
        "    {\"Rk\": 2, \"Team\": \"Bournemouth\", \"MP\": 9, \"W\": 5, \"D\": 1, \"L\": 3, \"GF\": 16, \"GA\": 11, \"GD\": 5, \"Pts\": 18,\n",
        "     \"Pts/MP\": 2.00, \"xG\": 11.0, \"xGA\": 11.1, \"xGD\": -0.1, \"xGD/90\": -0.01, \"Last5\": \"DWDWL\",\n",
        "     \"Attendance\": 11164, \"Top Scorer\": \"Antoine Semenyo - 6\", \"Goalkeeper\": \"Đorđe Petrović\"},\n",
        "\n",
        "    {\"Rk\": 3, \"Team\": \"Tottenham\", \"MP\": 9, \"W\": 5, \"D\": 2, \"L\": 2, \"GF\": 17, \"GA\": 10, \"GD\": 7, \"Pts\": 17,\n",
        "     \"Pts/MP\": 1.89, \"xG\": 9.9, \"xGA\": 10.7, \"xGD\": -0.8, \"xGD/90\": -0.09, \"Last5\": \"DDWLW\",\n",
        "     \"Attendance\": 61039, \"Top Scorer\": \"Richarlison, Micky van de Ven - 3\", \"Goalkeeper\": \"Guglielmo Vicario\"},\n",
        "\n",
        "    {\"Rk\": 4, \"Team\": \"Sunderland\", \"MP\": 9, \"W\": 5, \"D\": 2, \"L\": 2, \"GF\": 15, \"GA\": 11, \"GD\": 4, \"Pts\": 17,\n",
        "     \"Pts/MP\": 1.89, \"xG\": 10.5, \"xGA\": 10.4, \"xGD\": 0.1, \"xGD/90\": -0.02, \"Last5\": \"DWLWW\",\n",
        "     \"Attendance\": 46335, \"Top Scorer\": \"Wilson Isidor - 4\", \"Goalkeeper\": \"Robin Roefs\"},\n",
        "\n",
        "    {\"Rk\": 5, \"Team\": \"Manchester City\", \"MP\": 9, \"W\": 5, \"D\": 1, \"L\": 3, \"GF\": 17, \"GA\": 7, \"GD\": 10, \"Pts\": 16,\n",
        "     \"Pts/MP\": 1.78, \"xG\": 15.9, \"xGA\": 9.0, \"xGD\": 6.6, \"xGD/90\": 0.74, \"Last5\": \"WLWLW\",\n",
        "     \"Attendance\": 52311, \"Top Scorer\": \"Erling Haaland - 11\", \"Goalkeeper\": \"Gianluigi Donnarumma\"},\n",
        "\n",
        "    {\"Rk\": 6, \"Team\": \"Manchester United\", \"MP\": 9, \"W\": 5, \"D\": 1, \"L\": 3, \"GF\": 15, \"GA\": 14, \"GD\": 1, \"Pts\": 16,\n",
        "     \"Pts/MP\": 1.78, \"xG\": 16.3, \"xGA\": 13.6, \"xGD\": 2.6, \"xGD/90\": 0.29, \"Last5\": \"WLWLW\",\n",
        "     \"Attendance\": 73997, \"Top Scorer\": \"Bryan Mbeumo - 4\", \"Goalkeeper\": \"Altay Bayindir\"},\n",
        "\n",
        "    {\"Rk\": 7, \"Team\": \"Liverpool\", \"MP\": 9, \"W\": 5, \"D\": 0, \"L\": 4, \"GF\": 16, \"GA\": 14, \"GD\": 2, \"Pts\": 15,\n",
        "     \"Pts/MP\": 1.67, \"xG\": 15.8, \"xGA\": 13.0, \"xGD\": 3.7, \"xGD/90\": 0.42, \"Last5\": \"WLLLL\",\n",
        "     \"Attendance\": 60362, \"Top Scorer\": \"Mohamed Salah, Cody Gakpo - 3\", \"Goalkeeper\": \"Alisson\"},\n",
        "\n",
        "    {\"Rk\": 8, \"Team\": \"Aston Villa\", \"MP\": 9, \"W\": 4, \"D\": 3, \"L\": 2, \"GF\": 11, \"GA\": 8, \"GD\": 3, \"Pts\": 15,\n",
        "     \"Pts/MP\": 1.67, \"xG\": 7.1, \"xGA\": 11.8, \"xGD\": -4.7, \"xGD/90\": -0.52, \"Last5\": \"DWLWW\",\n",
        "     \"Attendance\": 41242, \"Top Scorer\": \"Emi Buendía, Donyell Malen - 2\", \"Goalkeeper\": \"Emiliano Martínez\"},\n",
        "\n",
        "    {\"Rk\": 9, \"Team\": \"Chelsea\", \"MP\": 9, \"W\": 4, \"D\": 2, \"L\": 3, \"GF\": 12, \"GA\": 11, \"GD\": 1, \"Pts\": 14,\n",
        "     \"Pts/MP\": 1.56, \"xG\": 13.4, \"xGA\": 13.1, \"xGD\": 0.3, \"xGD/90\": 0.03, \"Last5\": \"DLLWW\",\n",
        "     \"Attendance\": 39609, \"Top Scorer\": \"Enzo Fernández, Moisés Caicedo - 3\", \"Goalkeeper\": \"Robert Sánchez\"},\n",
        "\n",
        "    {\"Rk\": 10, \"Team\": \"Crystal Palace\", \"MP\": 9, \"W\": 4, \"D\": 1, \"L\": 4, \"GF\": 12, \"GA\": 9, \"GD\": 3, \"Pts\": 13,\n",
        "     \"Pts/MP\": 1.44, \"xG\": 11.7, \"xGA\": 7.5, \"xGD\": 4.2, \"xGD/90\": 0.65, \"Last5\": \"WLWDL\",\n",
        "     \"Attendance\": 25068, \"Top Scorer\": \"Jean-Philippe Mateta - 5\", \"Goalkeeper\": \"Dean Henderson\"},\n",
        "\n",
        "    {\"Rk\": 11, \"Team\": \"Brentford\", \"MP\": 9, \"W\": 4, \"D\": 1, \"L\": 4, \"GF\": 14, \"GA\": 13, \"GD\": 1, \"Pts\": 13,\n",
        "     \"Pts/MP\": 1.44, \"xG\": 14.9, \"xGA\": 12.2, \"xGD\": 2.7, \"xGD/90\": 0.31, \"Last5\": \"WLLWL\",\n",
        "     \"Attendance\": 17014, \"Top Scorer\": \"Thiago - 6\", \"Goalkeeper\": \"Caoimhín Kelleher\"},\n",
        "\n",
        "    {\"Rk\": 12, \"Team\": \"Newcastle United\", \"MP\": 9, \"W\": 3, \"D\": 3, \"L\": 3, \"GF\": 14, \"GA\": 13, \"GD\": 1, \"Pts\": 12,\n",
        "     \"Pts/MP\": 1.33, \"xG\": 11.9, \"xGA\": 7.0, \"xGD\": 4.9, \"xGD/90\": 0.55, \"Last5\": \"DLWLW\",\n",
        "     \"Attendance\": 52183, \"Top Scorer\": \"Nick Woltemade - 4\", \"Goalkeeper\": \"Nick Pope\"},\n",
        "\n",
        "    {\"Rk\": 13, \"Team\": \"Brighton\", \"MP\": 9, \"W\": 3, \"D\": 3, \"L\": 3, \"GF\": 14, \"GA\": 15, \"GD\": -1, \"Pts\": 12,\n",
        "     \"Pts/MP\": 1.33, \"xG\": 13.2, \"xGA\": 11.8, \"xGD\": 1.4, \"xGD/90\": 0.16, \"Last5\": \"WDLLL\",\n",
        "     \"Attendance\": 31518, \"Top Scorer\": \"Danny Welbeck - 5\", \"Goalkeeper\": \"Bart Verbruggen\"},\n",
        "\n",
        "    {\"Rk\": 14, \"Team\": \"Everton\", \"MP\": 9, \"W\": 3, \"D\": 2, \"L\": 4, \"GF\": 9, \"GA\": 12, \"GD\": -3, \"Pts\": 11,\n",
        "     \"Pts/MP\": 1.22, \"xG\": 12.5, \"xGA\": 13.6, \"xGD\": -1.1, \"xGD/90\": -0.12, \"Last5\": \"DLWLW\",\n",
        "     \"Attendance\": 51863, \"Top Scorer\": \"Iliman Ndiaye - 3\", \"Goalkeeper\": \"Jordan Pickford\"},\n",
        "\n",
        "    {\"Rk\": 15, \"Team\": \"Leeds United\", \"MP\": 9, \"W\": 3, \"D\": 2, \"L\": 4, \"GF\": 9, \"GA\": 14, \"GD\": -5, \"Pts\": 11,\n",
        "     \"Pts/MP\": 1.22, \"xG\": 11.5, \"xGA\": 9.0, \"xGD\": 2.5, \"xGD/90\": 0.28, \"Last5\": \"WDLWL\",\n",
        "     \"Attendance\": 36722, \"Top Scorer\": \"Joe Rodon, Noah Okafor - 2\", \"Goalkeeper\": \"Karl Darlow\"},\n",
        "\n",
        "    {\"Rk\": 16, \"Team\": \"Burnley\", \"MP\": 9, \"W\": 3, \"D\": 1, \"L\": 5, \"GF\": 12, \"GA\": 17, \"GD\": -5, \"Pts\": 10,\n",
        "     \"Pts/MP\": 1.11, \"xG\": 6.8, \"xGA\": 11.8, \"xGD\": -5.0, \"xGD/90\": -1.26, \"Last5\": \"DLWLW\",\n",
        "     \"Attendance\": 21521, \"Top Scorer\": \"Jaidon Anthony - 4\", \"Goalkeeper\": \"Martin Dúbravka\"},\n",
        "\n",
        "    {\"Rk\": 17, \"Team\": \"Fulham\", \"MP\": 9, \"W\": 2, \"D\": 2, \"L\": 5, \"GF\": 9, \"GA\": 15, \"GD\": -6, \"Pts\": 8,\n",
        "     \"Pts/MP\": 0.89, \"xG\": 9.4, \"xGA\": 14.6, \"xGD\": -5.1, \"xGD/90\": -0.42, \"Last5\": \"WLLLL\",\n",
        "     \"Attendance\": 27472, \"Top Scorer\": \"Raúl Jiménez, Alex Iwobi - 2\", \"Goalkeeper\": \"Bernd Leno\"},\n",
        "\n",
        "    {\"Rk\": 18, \"Team\": \"Nottingham Forest\", \"MP\": 9, \"W\": 1, \"D\": 2, \"L\": 6, \"GF\": 7, \"GA\": 12, \"GD\": -5, \"Pts\": 5,\n",
        "     \"Pts/MP\": 0.56, \"xG\": 8.4, \"xGA\": 13.9, \"xGD\": -5.5, \"xGD/90\": -0.61, \"Last5\": \"DLLLL\",\n",
        "     \"Attendance\": 30221, \"Top Scorer\": \"Chris Wood - 2\", \"Goalkeeper\": \"Matz Sels\"},\n",
        "\n",
        "    {\"Rk\": 19, \"Team\": \"West Ham\", \"MP\": 9, \"W\": 1, \"D\": 1, \"L\": 7, \"GF\": 9, \"GA\": 20, \"GD\": -11, \"Pts\": 4,\n",
        "     \"Pts/MP\": 0.44, \"xG\": 7.6, \"xGA\": 14.8, \"xGD\": -7.2, \"xGD/90\": -0.80, \"Last5\": \"DLLLL\",\n",
        "     \"Attendance\": 62457, \"Top Scorer\": \"Jarrod Bowen - 3\", \"Goalkeeper\": \"Alphonse Areola\"},\n",
        "\n",
        "    {\"Rk\": 20, \"Team\": \"Wolves\", \"MP\": 9, \"W\": 0, \"D\": 2, \"L\": 7, \"GF\": 7, \"GA\": 19, \"GD\": -12, \"Pts\": 2,\n",
        "     \"Pts/MP\": 0.22, \"xG\": 9.2, \"xGA\": 11.4, \"xGD\": -2.2, \"xGD/90\": -0.25, \"Last5\": \"LLLLD\",\n",
        "     \"Attendance\": 30231, \"Top Scorer\": \"Hwang Hee-chan, Santiago Bueno - 1\", \"Goalkeeper\": \"Sam Johnstone\"},\n",
        "]\n",
        "\n",
        "df = pd.DataFrame(data)\n",
        "print(df.head())\n"
      ]
    },
    {
      "cell_type": "code",
      "source": [
        "import plotly.express as px\n",
        "\n",
        "fig = px.scatter(df, x=\"xG\", y=\"xGA\",text=\"Team\",trendline=\"ols\")\n",
        "fig.show()"
      ],
      "metadata": {
        "colab": {
          "base_uri": "https://localhost:8080/",
          "height": 542
        },
        "id": "aqQd_Glu2EhA",
        "outputId": "940f832c-fd60-4f94-aeb9-faf9306f4903"
      },
      "execution_count": 13,
      "outputs": [
        {
          "output_type": "display_data",
          "data": {
            "text/html": [
              "<html>\n",
              "<head><meta charset=\"utf-8\" /></head>\n",
              "<body>\n",
              "    <div>            <script src=\"https://cdnjs.cloudflare.com/ajax/libs/mathjax/2.7.5/MathJax.js?config=TeX-AMS-MML_SVG\"></script><script type=\"text/javascript\">if (window.MathJax && window.MathJax.Hub && window.MathJax.Hub.Config) {window.MathJax.Hub.Config({SVG: {font: \"STIX-Web\"}});}</script>                <script type=\"text/javascript\">window.PlotlyConfig = {MathJaxConfig: 'local'};</script>\n",
              "        <script charset=\"utf-8\" src=\"https://cdn.plot.ly/plotly-2.35.2.min.js\"></script>                <div id=\"b300d6e4-7a61-4980-9d33-6982890cbf44\" class=\"plotly-graph-div\" style=\"height:525px; width:100%;\"></div>            <script type=\"text/javascript\">                                    window.PLOTLYENV=window.PLOTLYENV || {};                                    if (document.getElementById(\"b300d6e4-7a61-4980-9d33-6982890cbf44\")) {                    Plotly.newPlot(                        \"b300d6e4-7a61-4980-9d33-6982890cbf44\",                        [{\"hovertemplate\":\"xG=%{x}\\u003cbr\\u003exGA=%{y}\\u003cbr\\u003eTeam=%{text}\\u003cextra\\u003e\\u003c\\u002fextra\\u003e\",\"legendgroup\":\"\",\"marker\":{\"color\":\"#636efa\",\"symbol\":\"circle\"},\"mode\":\"markers+text\",\"name\":\"\",\"orientation\":\"v\",\"showlegend\":false,\"text\":[\"Arsenal\",\"Bournemouth\",\"Tottenham\",\"Sunderland\",\"Manchester City\",\"Manchester United\",\"Liverpool\",\"Aston Villa\",\"Chelsea\",\"Crystal Palace\",\"Brentford\",\"Newcastle United\",\"Brighton\",\"Everton\",\"Leeds United\",\"Burnley\",\"Fulham\",\"Nottingham Forest\",\"West Ham\",\"Wolves\"],\"x\":[14.6,11.0,9.9,10.5,15.9,16.3,15.8,7.1,13.4,11.7,14.9,11.9,13.2,12.5,11.5,6.8,9.4,8.4,7.6,9.2],\"xaxis\":\"x\",\"y\":[5.2,11.1,10.7,10.4,9.0,13.6,13.0,11.8,13.1,7.5,12.2,7.0,11.8,13.6,9.0,11.8,14.6,13.9,14.8,11.4],\"yaxis\":\"y\",\"type\":\"scatter\"},{\"hovertemplate\":\"\\u003cb\\u003eOLS trendline\\u003c\\u002fb\\u003e\\u003cbr\\u003exGA = -0.206302 * xG + 13.664\\u003cbr\\u003eR\\u003csup\\u003e2\\u003c\\u002fsup\\u003e=0.055422\\u003cbr\\u003e\\u003cbr\\u003exG=%{x}\\u003cbr\\u003exGA=%{y} \\u003cb\\u003e(trend)\\u003c\\u002fb\\u003e\\u003cextra\\u003e\\u003c\\u002fextra\\u003e\",\"legendgroup\":\"\",\"marker\":{\"color\":\"#636efa\",\"symbol\":\"circle\"},\"mode\":\"lines\",\"name\":\"\",\"showlegend\":false,\"x\":[6.8,7.1,7.6,8.4,9.2,9.4,9.9,10.5,11.0,11.5,11.7,11.9,12.5,13.2,13.4,14.6,14.9,15.8,15.9,16.3],\"xaxis\":\"x\",\"y\":[12.261122588718614,12.199232049677695,12.096081151276165,11.931039713833718,11.76599827639127,11.724737917030657,11.621587018629128,11.497805940547291,11.394655042145763,11.291504143744232,11.25024378438362,11.208983425023009,11.085202346941173,10.940791089179031,10.89953072981842,10.651968573654749,10.59007803461383,10.404406417491076,10.383776237810771,10.301255519089546],\"yaxis\":\"y\",\"type\":\"scatter\"}],                        {\"template\":{\"data\":{\"histogram2dcontour\":[{\"type\":\"histogram2dcontour\",\"colorbar\":{\"outlinewidth\":0,\"ticks\":\"\"},\"colorscale\":[[0.0,\"#0d0887\"],[0.1111111111111111,\"#46039f\"],[0.2222222222222222,\"#7201a8\"],[0.3333333333333333,\"#9c179e\"],[0.4444444444444444,\"#bd3786\"],[0.5555555555555556,\"#d8576b\"],[0.6666666666666666,\"#ed7953\"],[0.7777777777777778,\"#fb9f3a\"],[0.8888888888888888,\"#fdca26\"],[1.0,\"#f0f921\"]]}],\"choropleth\":[{\"type\":\"choropleth\",\"colorbar\":{\"outlinewidth\":0,\"ticks\":\"\"}}],\"histogram2d\":[{\"type\":\"histogram2d\",\"colorbar\":{\"outlinewidth\":0,\"ticks\":\"\"},\"colorscale\":[[0.0,\"#0d0887\"],[0.1111111111111111,\"#46039f\"],[0.2222222222222222,\"#7201a8\"],[0.3333333333333333,\"#9c179e\"],[0.4444444444444444,\"#bd3786\"],[0.5555555555555556,\"#d8576b\"],[0.6666666666666666,\"#ed7953\"],[0.7777777777777778,\"#fb9f3a\"],[0.8888888888888888,\"#fdca26\"],[1.0,\"#f0f921\"]]}],\"heatmap\":[{\"type\":\"heatmap\",\"colorbar\":{\"outlinewidth\":0,\"ticks\":\"\"},\"colorscale\":[[0.0,\"#0d0887\"],[0.1111111111111111,\"#46039f\"],[0.2222222222222222,\"#7201a8\"],[0.3333333333333333,\"#9c179e\"],[0.4444444444444444,\"#bd3786\"],[0.5555555555555556,\"#d8576b\"],[0.6666666666666666,\"#ed7953\"],[0.7777777777777778,\"#fb9f3a\"],[0.8888888888888888,\"#fdca26\"],[1.0,\"#f0f921\"]]}],\"heatmapgl\":[{\"type\":\"heatmapgl\",\"colorbar\":{\"outlinewidth\":0,\"ticks\":\"\"},\"colorscale\":[[0.0,\"#0d0887\"],[0.1111111111111111,\"#46039f\"],[0.2222222222222222,\"#7201a8\"],[0.3333333333333333,\"#9c179e\"],[0.4444444444444444,\"#bd3786\"],[0.5555555555555556,\"#d8576b\"],[0.6666666666666666,\"#ed7953\"],[0.7777777777777778,\"#fb9f3a\"],[0.8888888888888888,\"#fdca26\"],[1.0,\"#f0f921\"]]}],\"contourcarpet\":[{\"type\":\"contourcarpet\",\"colorbar\":{\"outlinewidth\":0,\"ticks\":\"\"}}],\"contour\":[{\"type\":\"contour\",\"colorbar\":{\"outlinewidth\":0,\"ticks\":\"\"},\"colorscale\":[[0.0,\"#0d0887\"],[0.1111111111111111,\"#46039f\"],[0.2222222222222222,\"#7201a8\"],[0.3333333333333333,\"#9c179e\"],[0.4444444444444444,\"#bd3786\"],[0.5555555555555556,\"#d8576b\"],[0.6666666666666666,\"#ed7953\"],[0.7777777777777778,\"#fb9f3a\"],[0.8888888888888888,\"#fdca26\"],[1.0,\"#f0f921\"]]}],\"surface\":[{\"type\":\"surface\",\"colorbar\":{\"outlinewidth\":0,\"ticks\":\"\"},\"colorscale\":[[0.0,\"#0d0887\"],[0.1111111111111111,\"#46039f\"],[0.2222222222222222,\"#7201a8\"],[0.3333333333333333,\"#9c179e\"],[0.4444444444444444,\"#bd3786\"],[0.5555555555555556,\"#d8576b\"],[0.6666666666666666,\"#ed7953\"],[0.7777777777777778,\"#fb9f3a\"],[0.8888888888888888,\"#fdca26\"],[1.0,\"#f0f921\"]]}],\"mesh3d\":[{\"type\":\"mesh3d\",\"colorbar\":{\"outlinewidth\":0,\"ticks\":\"\"}}],\"scatter\":[{\"fillpattern\":{\"fillmode\":\"overlay\",\"size\":10,\"solidity\":0.2},\"type\":\"scatter\"}],\"parcoords\":[{\"type\":\"parcoords\",\"line\":{\"colorbar\":{\"outlinewidth\":0,\"ticks\":\"\"}}}],\"scatterpolargl\":[{\"type\":\"scatterpolargl\",\"marker\":{\"colorbar\":{\"outlinewidth\":0,\"ticks\":\"\"}}}],\"bar\":[{\"error_x\":{\"color\":\"#2a3f5f\"},\"error_y\":{\"color\":\"#2a3f5f\"},\"marker\":{\"line\":{\"color\":\"#E5ECF6\",\"width\":0.5},\"pattern\":{\"fillmode\":\"overlay\",\"size\":10,\"solidity\":0.2}},\"type\":\"bar\"}],\"scattergeo\":[{\"type\":\"scattergeo\",\"marker\":{\"colorbar\":{\"outlinewidth\":0,\"ticks\":\"\"}}}],\"scatterpolar\":[{\"type\":\"scatterpolar\",\"marker\":{\"colorbar\":{\"outlinewidth\":0,\"ticks\":\"\"}}}],\"histogram\":[{\"marker\":{\"pattern\":{\"fillmode\":\"overlay\",\"size\":10,\"solidity\":0.2}},\"type\":\"histogram\"}],\"scattergl\":[{\"type\":\"scattergl\",\"marker\":{\"colorbar\":{\"outlinewidth\":0,\"ticks\":\"\"}}}],\"scatter3d\":[{\"type\":\"scatter3d\",\"line\":{\"colorbar\":{\"outlinewidth\":0,\"ticks\":\"\"}},\"marker\":{\"colorbar\":{\"outlinewidth\":0,\"ticks\":\"\"}}}],\"scattermapbox\":[{\"type\":\"scattermapbox\",\"marker\":{\"colorbar\":{\"outlinewidth\":0,\"ticks\":\"\"}}}],\"scatterternary\":[{\"type\":\"scatterternary\",\"marker\":{\"colorbar\":{\"outlinewidth\":0,\"ticks\":\"\"}}}],\"scattercarpet\":[{\"type\":\"scattercarpet\",\"marker\":{\"colorbar\":{\"outlinewidth\":0,\"ticks\":\"\"}}}],\"carpet\":[{\"aaxis\":{\"endlinecolor\":\"#2a3f5f\",\"gridcolor\":\"white\",\"linecolor\":\"white\",\"minorgridcolor\":\"white\",\"startlinecolor\":\"#2a3f5f\"},\"baxis\":{\"endlinecolor\":\"#2a3f5f\",\"gridcolor\":\"white\",\"linecolor\":\"white\",\"minorgridcolor\":\"white\",\"startlinecolor\":\"#2a3f5f\"},\"type\":\"carpet\"}],\"table\":[{\"cells\":{\"fill\":{\"color\":\"#EBF0F8\"},\"line\":{\"color\":\"white\"}},\"header\":{\"fill\":{\"color\":\"#C8D4E3\"},\"line\":{\"color\":\"white\"}},\"type\":\"table\"}],\"barpolar\":[{\"marker\":{\"line\":{\"color\":\"#E5ECF6\",\"width\":0.5},\"pattern\":{\"fillmode\":\"overlay\",\"size\":10,\"solidity\":0.2}},\"type\":\"barpolar\"}],\"pie\":[{\"automargin\":true,\"type\":\"pie\"}]},\"layout\":{\"autotypenumbers\":\"strict\",\"colorway\":[\"#636efa\",\"#EF553B\",\"#00cc96\",\"#ab63fa\",\"#FFA15A\",\"#19d3f3\",\"#FF6692\",\"#B6E880\",\"#FF97FF\",\"#FECB52\"],\"font\":{\"color\":\"#2a3f5f\"},\"hovermode\":\"closest\",\"hoverlabel\":{\"align\":\"left\"},\"paper_bgcolor\":\"white\",\"plot_bgcolor\":\"#E5ECF6\",\"polar\":{\"bgcolor\":\"#E5ECF6\",\"angularaxis\":{\"gridcolor\":\"white\",\"linecolor\":\"white\",\"ticks\":\"\"},\"radialaxis\":{\"gridcolor\":\"white\",\"linecolor\":\"white\",\"ticks\":\"\"}},\"ternary\":{\"bgcolor\":\"#E5ECF6\",\"aaxis\":{\"gridcolor\":\"white\",\"linecolor\":\"white\",\"ticks\":\"\"},\"baxis\":{\"gridcolor\":\"white\",\"linecolor\":\"white\",\"ticks\":\"\"},\"caxis\":{\"gridcolor\":\"white\",\"linecolor\":\"white\",\"ticks\":\"\"}},\"coloraxis\":{\"colorbar\":{\"outlinewidth\":0,\"ticks\":\"\"}},\"colorscale\":{\"sequential\":[[0.0,\"#0d0887\"],[0.1111111111111111,\"#46039f\"],[0.2222222222222222,\"#7201a8\"],[0.3333333333333333,\"#9c179e\"],[0.4444444444444444,\"#bd3786\"],[0.5555555555555556,\"#d8576b\"],[0.6666666666666666,\"#ed7953\"],[0.7777777777777778,\"#fb9f3a\"],[0.8888888888888888,\"#fdca26\"],[1.0,\"#f0f921\"]],\"sequentialminus\":[[0.0,\"#0d0887\"],[0.1111111111111111,\"#46039f\"],[0.2222222222222222,\"#7201a8\"],[0.3333333333333333,\"#9c179e\"],[0.4444444444444444,\"#bd3786\"],[0.5555555555555556,\"#d8576b\"],[0.6666666666666666,\"#ed7953\"],[0.7777777777777778,\"#fb9f3a\"],[0.8888888888888888,\"#fdca26\"],[1.0,\"#f0f921\"]],\"diverging\":[[0,\"#8e0152\"],[0.1,\"#c51b7d\"],[0.2,\"#de77ae\"],[0.3,\"#f1b6da\"],[0.4,\"#fde0ef\"],[0.5,\"#f7f7f7\"],[0.6,\"#e6f5d0\"],[0.7,\"#b8e186\"],[0.8,\"#7fbc41\"],[0.9,\"#4d9221\"],[1,\"#276419\"]]},\"xaxis\":{\"gridcolor\":\"white\",\"linecolor\":\"white\",\"ticks\":\"\",\"title\":{\"standoff\":15},\"zerolinecolor\":\"white\",\"automargin\":true,\"zerolinewidth\":2},\"yaxis\":{\"gridcolor\":\"white\",\"linecolor\":\"white\",\"ticks\":\"\",\"title\":{\"standoff\":15},\"zerolinecolor\":\"white\",\"automargin\":true,\"zerolinewidth\":2},\"scene\":{\"xaxis\":{\"backgroundcolor\":\"#E5ECF6\",\"gridcolor\":\"white\",\"linecolor\":\"white\",\"showbackground\":true,\"ticks\":\"\",\"zerolinecolor\":\"white\",\"gridwidth\":2},\"yaxis\":{\"backgroundcolor\":\"#E5ECF6\",\"gridcolor\":\"white\",\"linecolor\":\"white\",\"showbackground\":true,\"ticks\":\"\",\"zerolinecolor\":\"white\",\"gridwidth\":2},\"zaxis\":{\"backgroundcolor\":\"#E5ECF6\",\"gridcolor\":\"white\",\"linecolor\":\"white\",\"showbackground\":true,\"ticks\":\"\",\"zerolinecolor\":\"white\",\"gridwidth\":2}},\"shapedefaults\":{\"line\":{\"color\":\"#2a3f5f\"}},\"annotationdefaults\":{\"arrowcolor\":\"#2a3f5f\",\"arrowhead\":0,\"arrowwidth\":1},\"geo\":{\"bgcolor\":\"white\",\"landcolor\":\"#E5ECF6\",\"subunitcolor\":\"white\",\"showland\":true,\"showlakes\":true,\"lakecolor\":\"white\"},\"title\":{\"x\":0.05},\"mapbox\":{\"style\":\"light\"}}},\"xaxis\":{\"anchor\":\"y\",\"domain\":[0.0,1.0],\"title\":{\"text\":\"xG\"}},\"yaxis\":{\"anchor\":\"x\",\"domain\":[0.0,1.0],\"title\":{\"text\":\"xGA\"}},\"legend\":{\"tracegroupgap\":0},\"margin\":{\"t\":60}},                        {\"responsive\": true}                    ).then(function(){\n",
              "                            \n",
              "var gd = document.getElementById('b300d6e4-7a61-4980-9d33-6982890cbf44');\n",
              "var x = new MutationObserver(function (mutations, observer) {{\n",
              "        var display = window.getComputedStyle(gd).display;\n",
              "        if (!display || display === 'none') {{\n",
              "            console.log([gd, 'removed!']);\n",
              "            Plotly.purge(gd);\n",
              "            observer.disconnect();\n",
              "        }}\n",
              "}});\n",
              "\n",
              "// Listen for the removal of the full notebook cells\n",
              "var notebookContainer = gd.closest('#notebook-container');\n",
              "if (notebookContainer) {{\n",
              "    x.observe(notebookContainer, {childList: true});\n",
              "}}\n",
              "\n",
              "// Listen for the clearing of the current output cell\n",
              "var outputEl = gd.closest('.output');\n",
              "if (outputEl) {{\n",
              "    x.observe(outputEl, {childList: true});\n",
              "}}\n",
              "\n",
              "                        })                };                            </script>        </div>\n",
              "</body>\n",
              "</html>"
            ]
          },
          "metadata": {}
        }
      ]
    },
    {
      "cell_type": "code",
      "source": [
        "import plotly.express as px\n",
        "\n",
        "# กราฟแท่งคะแนนรวม\n",
        "fig = px.bar(df, x=\"Team\", y=\"Pts\", text=\"Pts\", title=\"คะแนนรวมแต่ละทีม (Premier League)\")\n",
        "fig.update_xaxes(type='category')\n",
        "fig.update_traces(textposition=\"outside\")\n",
        "fig.show()\n",
        "\n",
        "# กราฟ scatter วิเคราะห์เกมรุก–เกมรับ\n",
        "fig2 = px.scatter(df, x=\"xG\", y=\"xGA\", text=\"Team\",\n",
        "                  title=\"xG vs xGA (ประสิทธิภาพเกมรุก–เกมรับ)\")\n",
        "fig2.update_traces(textposition=\"top center\")\n",
        "fig2.add_shape(type=\"line\", x0=df[\"xG\"].min(), y0=df[\"xG\"].min(),\n",
        "               x1=df[\"xG\"].max(), y1=df[\"xG\"].max(),\n",
        "               line=dict(dash=\"dash\", color=\"gray\"))\n",
        "fig2.show()\n"
      ],
      "metadata": {
        "colab": {
          "base_uri": "https://localhost:8080/",
          "height": 1000
        },
        "id": "oMqQJ7Jl0kB6",
        "outputId": "c1921396-f766-46a2-9d3e-219579e2b12d"
      },
      "execution_count": 3,
      "outputs": [
        {
          "output_type": "display_data",
          "data": {
            "text/html": [
              "<html>\n",
              "<head><meta charset=\"utf-8\" /></head>\n",
              "<body>\n",
              "    <div>            <script src=\"https://cdnjs.cloudflare.com/ajax/libs/mathjax/2.7.5/MathJax.js?config=TeX-AMS-MML_SVG\"></script><script type=\"text/javascript\">if (window.MathJax && window.MathJax.Hub && window.MathJax.Hub.Config) {window.MathJax.Hub.Config({SVG: {font: \"STIX-Web\"}});}</script>                <script type=\"text/javascript\">window.PlotlyConfig = {MathJaxConfig: 'local'};</script>\n",
              "        <script charset=\"utf-8\" src=\"https://cdn.plot.ly/plotly-2.35.2.min.js\"></script>                <div id=\"c790a060-4f0b-4ec3-bce6-d7c1cbb99bb7\" class=\"plotly-graph-div\" style=\"height:525px; width:100%;\"></div>            <script type=\"text/javascript\">                                    window.PLOTLYENV=window.PLOTLYENV || {};                                    if (document.getElementById(\"c790a060-4f0b-4ec3-bce6-d7c1cbb99bb7\")) {                    Plotly.newPlot(                        \"c790a060-4f0b-4ec3-bce6-d7c1cbb99bb7\",                        [{\"alignmentgroup\":\"True\",\"hovertemplate\":\"Team=%{x}\\u003cbr\\u003ePts=%{text}\\u003cextra\\u003e\\u003c\\u002fextra\\u003e\",\"legendgroup\":\"\",\"marker\":{\"color\":\"#636efa\",\"pattern\":{\"shape\":\"\"}},\"name\":\"\",\"offsetgroup\":\"\",\"orientation\":\"v\",\"showlegend\":false,\"text\":[22.0,18.0,17.0,17.0,16.0,16.0,15.0,15.0,14.0,13.0,13.0,12.0,12.0,11.0,11.0,10.0,8.0,5.0,4.0,2.0],\"textposition\":\"outside\",\"x\":[\"Arsenal\",\"Bournemouth\",\"Tottenham\",\"Sunderland\",\"Manchester City\",\"Manchester United\",\"Liverpool\",\"Aston Villa\",\"Chelsea\",\"Crystal Palace\",\"Brentford\",\"Newcastle United\",\"Brighton\",\"Everton\",\"Leeds United\",\"Burnley\",\"Fulham\",\"Nottingham Forest\",\"West Ham\",\"Wolves\"],\"xaxis\":\"x\",\"y\":[22,18,17,17,16,16,15,15,14,13,13,12,12,11,11,10,8,5,4,2],\"yaxis\":\"y\",\"type\":\"bar\"}],                        {\"template\":{\"data\":{\"histogram2dcontour\":[{\"type\":\"histogram2dcontour\",\"colorbar\":{\"outlinewidth\":0,\"ticks\":\"\"},\"colorscale\":[[0.0,\"#0d0887\"],[0.1111111111111111,\"#46039f\"],[0.2222222222222222,\"#7201a8\"],[0.3333333333333333,\"#9c179e\"],[0.4444444444444444,\"#bd3786\"],[0.5555555555555556,\"#d8576b\"],[0.6666666666666666,\"#ed7953\"],[0.7777777777777778,\"#fb9f3a\"],[0.8888888888888888,\"#fdca26\"],[1.0,\"#f0f921\"]]}],\"choropleth\":[{\"type\":\"choropleth\",\"colorbar\":{\"outlinewidth\":0,\"ticks\":\"\"}}],\"histogram2d\":[{\"type\":\"histogram2d\",\"colorbar\":{\"outlinewidth\":0,\"ticks\":\"\"},\"colorscale\":[[0.0,\"#0d0887\"],[0.1111111111111111,\"#46039f\"],[0.2222222222222222,\"#7201a8\"],[0.3333333333333333,\"#9c179e\"],[0.4444444444444444,\"#bd3786\"],[0.5555555555555556,\"#d8576b\"],[0.6666666666666666,\"#ed7953\"],[0.7777777777777778,\"#fb9f3a\"],[0.8888888888888888,\"#fdca26\"],[1.0,\"#f0f921\"]]}],\"heatmap\":[{\"type\":\"heatmap\",\"colorbar\":{\"outlinewidth\":0,\"ticks\":\"\"},\"colorscale\":[[0.0,\"#0d0887\"],[0.1111111111111111,\"#46039f\"],[0.2222222222222222,\"#7201a8\"],[0.3333333333333333,\"#9c179e\"],[0.4444444444444444,\"#bd3786\"],[0.5555555555555556,\"#d8576b\"],[0.6666666666666666,\"#ed7953\"],[0.7777777777777778,\"#fb9f3a\"],[0.8888888888888888,\"#fdca26\"],[1.0,\"#f0f921\"]]}],\"heatmapgl\":[{\"type\":\"heatmapgl\",\"colorbar\":{\"outlinewidth\":0,\"ticks\":\"\"},\"colorscale\":[[0.0,\"#0d0887\"],[0.1111111111111111,\"#46039f\"],[0.2222222222222222,\"#7201a8\"],[0.3333333333333333,\"#9c179e\"],[0.4444444444444444,\"#bd3786\"],[0.5555555555555556,\"#d8576b\"],[0.6666666666666666,\"#ed7953\"],[0.7777777777777778,\"#fb9f3a\"],[0.8888888888888888,\"#fdca26\"],[1.0,\"#f0f921\"]]}],\"contourcarpet\":[{\"type\":\"contourcarpet\",\"colorbar\":{\"outlinewidth\":0,\"ticks\":\"\"}}],\"contour\":[{\"type\":\"contour\",\"colorbar\":{\"outlinewidth\":0,\"ticks\":\"\"},\"colorscale\":[[0.0,\"#0d0887\"],[0.1111111111111111,\"#46039f\"],[0.2222222222222222,\"#7201a8\"],[0.3333333333333333,\"#9c179e\"],[0.4444444444444444,\"#bd3786\"],[0.5555555555555556,\"#d8576b\"],[0.6666666666666666,\"#ed7953\"],[0.7777777777777778,\"#fb9f3a\"],[0.8888888888888888,\"#fdca26\"],[1.0,\"#f0f921\"]]}],\"surface\":[{\"type\":\"surface\",\"colorbar\":{\"outlinewidth\":0,\"ticks\":\"\"},\"colorscale\":[[0.0,\"#0d0887\"],[0.1111111111111111,\"#46039f\"],[0.2222222222222222,\"#7201a8\"],[0.3333333333333333,\"#9c179e\"],[0.4444444444444444,\"#bd3786\"],[0.5555555555555556,\"#d8576b\"],[0.6666666666666666,\"#ed7953\"],[0.7777777777777778,\"#fb9f3a\"],[0.8888888888888888,\"#fdca26\"],[1.0,\"#f0f921\"]]}],\"mesh3d\":[{\"type\":\"mesh3d\",\"colorbar\":{\"outlinewidth\":0,\"ticks\":\"\"}}],\"scatter\":[{\"fillpattern\":{\"fillmode\":\"overlay\",\"size\":10,\"solidity\":0.2},\"type\":\"scatter\"}],\"parcoords\":[{\"type\":\"parcoords\",\"line\":{\"colorbar\":{\"outlinewidth\":0,\"ticks\":\"\"}}}],\"scatterpolargl\":[{\"type\":\"scatterpolargl\",\"marker\":{\"colorbar\":{\"outlinewidth\":0,\"ticks\":\"\"}}}],\"bar\":[{\"error_x\":{\"color\":\"#2a3f5f\"},\"error_y\":{\"color\":\"#2a3f5f\"},\"marker\":{\"line\":{\"color\":\"#E5ECF6\",\"width\":0.5},\"pattern\":{\"fillmode\":\"overlay\",\"size\":10,\"solidity\":0.2}},\"type\":\"bar\"}],\"scattergeo\":[{\"type\":\"scattergeo\",\"marker\":{\"colorbar\":{\"outlinewidth\":0,\"ticks\":\"\"}}}],\"scatterpolar\":[{\"type\":\"scatterpolar\",\"marker\":{\"colorbar\":{\"outlinewidth\":0,\"ticks\":\"\"}}}],\"histogram\":[{\"marker\":{\"pattern\":{\"fillmode\":\"overlay\",\"size\":10,\"solidity\":0.2}},\"type\":\"histogram\"}],\"scattergl\":[{\"type\":\"scattergl\",\"marker\":{\"colorbar\":{\"outlinewidth\":0,\"ticks\":\"\"}}}],\"scatter3d\":[{\"type\":\"scatter3d\",\"line\":{\"colorbar\":{\"outlinewidth\":0,\"ticks\":\"\"}},\"marker\":{\"colorbar\":{\"outlinewidth\":0,\"ticks\":\"\"}}}],\"scattermapbox\":[{\"type\":\"scattermapbox\",\"marker\":{\"colorbar\":{\"outlinewidth\":0,\"ticks\":\"\"}}}],\"scatterternary\":[{\"type\":\"scatterternary\",\"marker\":{\"colorbar\":{\"outlinewidth\":0,\"ticks\":\"\"}}}],\"scattercarpet\":[{\"type\":\"scattercarpet\",\"marker\":{\"colorbar\":{\"outlinewidth\":0,\"ticks\":\"\"}}}],\"carpet\":[{\"aaxis\":{\"endlinecolor\":\"#2a3f5f\",\"gridcolor\":\"white\",\"linecolor\":\"white\",\"minorgridcolor\":\"white\",\"startlinecolor\":\"#2a3f5f\"},\"baxis\":{\"endlinecolor\":\"#2a3f5f\",\"gridcolor\":\"white\",\"linecolor\":\"white\",\"minorgridcolor\":\"white\",\"startlinecolor\":\"#2a3f5f\"},\"type\":\"carpet\"}],\"table\":[{\"cells\":{\"fill\":{\"color\":\"#EBF0F8\"},\"line\":{\"color\":\"white\"}},\"header\":{\"fill\":{\"color\":\"#C8D4E3\"},\"line\":{\"color\":\"white\"}},\"type\":\"table\"}],\"barpolar\":[{\"marker\":{\"line\":{\"color\":\"#E5ECF6\",\"width\":0.5},\"pattern\":{\"fillmode\":\"overlay\",\"size\":10,\"solidity\":0.2}},\"type\":\"barpolar\"}],\"pie\":[{\"automargin\":true,\"type\":\"pie\"}]},\"layout\":{\"autotypenumbers\":\"strict\",\"colorway\":[\"#636efa\",\"#EF553B\",\"#00cc96\",\"#ab63fa\",\"#FFA15A\",\"#19d3f3\",\"#FF6692\",\"#B6E880\",\"#FF97FF\",\"#FECB52\"],\"font\":{\"color\":\"#2a3f5f\"},\"hovermode\":\"closest\",\"hoverlabel\":{\"align\":\"left\"},\"paper_bgcolor\":\"white\",\"plot_bgcolor\":\"#E5ECF6\",\"polar\":{\"bgcolor\":\"#E5ECF6\",\"angularaxis\":{\"gridcolor\":\"white\",\"linecolor\":\"white\",\"ticks\":\"\"},\"radialaxis\":{\"gridcolor\":\"white\",\"linecolor\":\"white\",\"ticks\":\"\"}},\"ternary\":{\"bgcolor\":\"#E5ECF6\",\"aaxis\":{\"gridcolor\":\"white\",\"linecolor\":\"white\",\"ticks\":\"\"},\"baxis\":{\"gridcolor\":\"white\",\"linecolor\":\"white\",\"ticks\":\"\"},\"caxis\":{\"gridcolor\":\"white\",\"linecolor\":\"white\",\"ticks\":\"\"}},\"coloraxis\":{\"colorbar\":{\"outlinewidth\":0,\"ticks\":\"\"}},\"colorscale\":{\"sequential\":[[0.0,\"#0d0887\"],[0.1111111111111111,\"#46039f\"],[0.2222222222222222,\"#7201a8\"],[0.3333333333333333,\"#9c179e\"],[0.4444444444444444,\"#bd3786\"],[0.5555555555555556,\"#d8576b\"],[0.6666666666666666,\"#ed7953\"],[0.7777777777777778,\"#fb9f3a\"],[0.8888888888888888,\"#fdca26\"],[1.0,\"#f0f921\"]],\"sequentialminus\":[[0.0,\"#0d0887\"],[0.1111111111111111,\"#46039f\"],[0.2222222222222222,\"#7201a8\"],[0.3333333333333333,\"#9c179e\"],[0.4444444444444444,\"#bd3786\"],[0.5555555555555556,\"#d8576b\"],[0.6666666666666666,\"#ed7953\"],[0.7777777777777778,\"#fb9f3a\"],[0.8888888888888888,\"#fdca26\"],[1.0,\"#f0f921\"]],\"diverging\":[[0,\"#8e0152\"],[0.1,\"#c51b7d\"],[0.2,\"#de77ae\"],[0.3,\"#f1b6da\"],[0.4,\"#fde0ef\"],[0.5,\"#f7f7f7\"],[0.6,\"#e6f5d0\"],[0.7,\"#b8e186\"],[0.8,\"#7fbc41\"],[0.9,\"#4d9221\"],[1,\"#276419\"]]},\"xaxis\":{\"gridcolor\":\"white\",\"linecolor\":\"white\",\"ticks\":\"\",\"title\":{\"standoff\":15},\"zerolinecolor\":\"white\",\"automargin\":true,\"zerolinewidth\":2},\"yaxis\":{\"gridcolor\":\"white\",\"linecolor\":\"white\",\"ticks\":\"\",\"title\":{\"standoff\":15},\"zerolinecolor\":\"white\",\"automargin\":true,\"zerolinewidth\":2},\"scene\":{\"xaxis\":{\"backgroundcolor\":\"#E5ECF6\",\"gridcolor\":\"white\",\"linecolor\":\"white\",\"showbackground\":true,\"ticks\":\"\",\"zerolinecolor\":\"white\",\"gridwidth\":2},\"yaxis\":{\"backgroundcolor\":\"#E5ECF6\",\"gridcolor\":\"white\",\"linecolor\":\"white\",\"showbackground\":true,\"ticks\":\"\",\"zerolinecolor\":\"white\",\"gridwidth\":2},\"zaxis\":{\"backgroundcolor\":\"#E5ECF6\",\"gridcolor\":\"white\",\"linecolor\":\"white\",\"showbackground\":true,\"ticks\":\"\",\"zerolinecolor\":\"white\",\"gridwidth\":2}},\"shapedefaults\":{\"line\":{\"color\":\"#2a3f5f\"}},\"annotationdefaults\":{\"arrowcolor\":\"#2a3f5f\",\"arrowhead\":0,\"arrowwidth\":1},\"geo\":{\"bgcolor\":\"white\",\"landcolor\":\"#E5ECF6\",\"subunitcolor\":\"white\",\"showland\":true,\"showlakes\":true,\"lakecolor\":\"white\"},\"title\":{\"x\":0.05},\"mapbox\":{\"style\":\"light\"}}},\"xaxis\":{\"anchor\":\"y\",\"domain\":[0.0,1.0],\"title\":{\"text\":\"Team\"},\"type\":\"category\"},\"yaxis\":{\"anchor\":\"x\",\"domain\":[0.0,1.0],\"title\":{\"text\":\"Pts\"}},\"legend\":{\"tracegroupgap\":0},\"title\":{\"text\":\"คะแนนรวมแต่ละทีม (Premier League)\"},\"barmode\":\"relative\"},                        {\"responsive\": true}                    ).then(function(){\n",
              "                            \n",
              "var gd = document.getElementById('c790a060-4f0b-4ec3-bce6-d7c1cbb99bb7');\n",
              "var x = new MutationObserver(function (mutations, observer) {{\n",
              "        var display = window.getComputedStyle(gd).display;\n",
              "        if (!display || display === 'none') {{\n",
              "            console.log([gd, 'removed!']);\n",
              "            Plotly.purge(gd);\n",
              "            observer.disconnect();\n",
              "        }}\n",
              "}});\n",
              "\n",
              "// Listen for the removal of the full notebook cells\n",
              "var notebookContainer = gd.closest('#notebook-container');\n",
              "if (notebookContainer) {{\n",
              "    x.observe(notebookContainer, {childList: true});\n",
              "}}\n",
              "\n",
              "// Listen for the clearing of the current output cell\n",
              "var outputEl = gd.closest('.output');\n",
              "if (outputEl) {{\n",
              "    x.observe(outputEl, {childList: true});\n",
              "}}\n",
              "\n",
              "                        })                };                            </script>        </div>\n",
              "</body>\n",
              "</html>"
            ]
          },
          "metadata": {}
        },
        {
          "output_type": "display_data",
          "data": {
            "text/html": [
              "<html>\n",
              "<head><meta charset=\"utf-8\" /></head>\n",
              "<body>\n",
              "    <div>            <script src=\"https://cdnjs.cloudflare.com/ajax/libs/mathjax/2.7.5/MathJax.js?config=TeX-AMS-MML_SVG\"></script><script type=\"text/javascript\">if (window.MathJax && window.MathJax.Hub && window.MathJax.Hub.Config) {window.MathJax.Hub.Config({SVG: {font: \"STIX-Web\"}});}</script>                <script type=\"text/javascript\">window.PlotlyConfig = {MathJaxConfig: 'local'};</script>\n",
              "        <script charset=\"utf-8\" src=\"https://cdn.plot.ly/plotly-2.35.2.min.js\"></script>                <div id=\"da7b8dc3-af63-43e1-9938-e746aca9a561\" class=\"plotly-graph-div\" style=\"height:525px; width:100%;\"></div>            <script type=\"text/javascript\">                                    window.PLOTLYENV=window.PLOTLYENV || {};                                    if (document.getElementById(\"da7b8dc3-af63-43e1-9938-e746aca9a561\")) {                    Plotly.newPlot(                        \"da7b8dc3-af63-43e1-9938-e746aca9a561\",                        [{\"hovertemplate\":\"xG=%{x}\\u003cbr\\u003exGA=%{y}\\u003cbr\\u003eTeam=%{text}\\u003cextra\\u003e\\u003c\\u002fextra\\u003e\",\"legendgroup\":\"\",\"marker\":{\"color\":\"#636efa\",\"symbol\":\"circle\"},\"mode\":\"markers+text\",\"name\":\"\",\"orientation\":\"v\",\"showlegend\":false,\"text\":[\"Arsenal\",\"Bournemouth\",\"Tottenham\",\"Sunderland\",\"Manchester City\",\"Manchester United\",\"Liverpool\",\"Aston Villa\",\"Chelsea\",\"Crystal Palace\",\"Brentford\",\"Newcastle United\",\"Brighton\",\"Everton\",\"Leeds United\",\"Burnley\",\"Fulham\",\"Nottingham Forest\",\"West Ham\",\"Wolves\"],\"x\":[14.6,11.0,9.9,10.5,15.9,16.3,15.8,7.1,13.4,11.7,14.9,11.9,13.2,12.5,11.5,6.8,9.4,8.4,7.6,9.2],\"xaxis\":\"x\",\"y\":[5.2,11.1,10.7,10.4,9.0,13.6,13.0,11.8,13.1,7.5,12.2,7.0,11.8,13.6,9.0,11.8,14.6,13.9,14.8,11.4],\"yaxis\":\"y\",\"type\":\"scatter\",\"textposition\":\"top center\"}],                        {\"template\":{\"data\":{\"histogram2dcontour\":[{\"type\":\"histogram2dcontour\",\"colorbar\":{\"outlinewidth\":0,\"ticks\":\"\"},\"colorscale\":[[0.0,\"#0d0887\"],[0.1111111111111111,\"#46039f\"],[0.2222222222222222,\"#7201a8\"],[0.3333333333333333,\"#9c179e\"],[0.4444444444444444,\"#bd3786\"],[0.5555555555555556,\"#d8576b\"],[0.6666666666666666,\"#ed7953\"],[0.7777777777777778,\"#fb9f3a\"],[0.8888888888888888,\"#fdca26\"],[1.0,\"#f0f921\"]]}],\"choropleth\":[{\"type\":\"choropleth\",\"colorbar\":{\"outlinewidth\":0,\"ticks\":\"\"}}],\"histogram2d\":[{\"type\":\"histogram2d\",\"colorbar\":{\"outlinewidth\":0,\"ticks\":\"\"},\"colorscale\":[[0.0,\"#0d0887\"],[0.1111111111111111,\"#46039f\"],[0.2222222222222222,\"#7201a8\"],[0.3333333333333333,\"#9c179e\"],[0.4444444444444444,\"#bd3786\"],[0.5555555555555556,\"#d8576b\"],[0.6666666666666666,\"#ed7953\"],[0.7777777777777778,\"#fb9f3a\"],[0.8888888888888888,\"#fdca26\"],[1.0,\"#f0f921\"]]}],\"heatmap\":[{\"type\":\"heatmap\",\"colorbar\":{\"outlinewidth\":0,\"ticks\":\"\"},\"colorscale\":[[0.0,\"#0d0887\"],[0.1111111111111111,\"#46039f\"],[0.2222222222222222,\"#7201a8\"],[0.3333333333333333,\"#9c179e\"],[0.4444444444444444,\"#bd3786\"],[0.5555555555555556,\"#d8576b\"],[0.6666666666666666,\"#ed7953\"],[0.7777777777777778,\"#fb9f3a\"],[0.8888888888888888,\"#fdca26\"],[1.0,\"#f0f921\"]]}],\"heatmapgl\":[{\"type\":\"heatmapgl\",\"colorbar\":{\"outlinewidth\":0,\"ticks\":\"\"},\"colorscale\":[[0.0,\"#0d0887\"],[0.1111111111111111,\"#46039f\"],[0.2222222222222222,\"#7201a8\"],[0.3333333333333333,\"#9c179e\"],[0.4444444444444444,\"#bd3786\"],[0.5555555555555556,\"#d8576b\"],[0.6666666666666666,\"#ed7953\"],[0.7777777777777778,\"#fb9f3a\"],[0.8888888888888888,\"#fdca26\"],[1.0,\"#f0f921\"]]}],\"contourcarpet\":[{\"type\":\"contourcarpet\",\"colorbar\":{\"outlinewidth\":0,\"ticks\":\"\"}}],\"contour\":[{\"type\":\"contour\",\"colorbar\":{\"outlinewidth\":0,\"ticks\":\"\"},\"colorscale\":[[0.0,\"#0d0887\"],[0.1111111111111111,\"#46039f\"],[0.2222222222222222,\"#7201a8\"],[0.3333333333333333,\"#9c179e\"],[0.4444444444444444,\"#bd3786\"],[0.5555555555555556,\"#d8576b\"],[0.6666666666666666,\"#ed7953\"],[0.7777777777777778,\"#fb9f3a\"],[0.8888888888888888,\"#fdca26\"],[1.0,\"#f0f921\"]]}],\"surface\":[{\"type\":\"surface\",\"colorbar\":{\"outlinewidth\":0,\"ticks\":\"\"},\"colorscale\":[[0.0,\"#0d0887\"],[0.1111111111111111,\"#46039f\"],[0.2222222222222222,\"#7201a8\"],[0.3333333333333333,\"#9c179e\"],[0.4444444444444444,\"#bd3786\"],[0.5555555555555556,\"#d8576b\"],[0.6666666666666666,\"#ed7953\"],[0.7777777777777778,\"#fb9f3a\"],[0.8888888888888888,\"#fdca26\"],[1.0,\"#f0f921\"]]}],\"mesh3d\":[{\"type\":\"mesh3d\",\"colorbar\":{\"outlinewidth\":0,\"ticks\":\"\"}}],\"scatter\":[{\"fillpattern\":{\"fillmode\":\"overlay\",\"size\":10,\"solidity\":0.2},\"type\":\"scatter\"}],\"parcoords\":[{\"type\":\"parcoords\",\"line\":{\"colorbar\":{\"outlinewidth\":0,\"ticks\":\"\"}}}],\"scatterpolargl\":[{\"type\":\"scatterpolargl\",\"marker\":{\"colorbar\":{\"outlinewidth\":0,\"ticks\":\"\"}}}],\"bar\":[{\"error_x\":{\"color\":\"#2a3f5f\"},\"error_y\":{\"color\":\"#2a3f5f\"},\"marker\":{\"line\":{\"color\":\"#E5ECF6\",\"width\":0.5},\"pattern\":{\"fillmode\":\"overlay\",\"size\":10,\"solidity\":0.2}},\"type\":\"bar\"}],\"scattergeo\":[{\"type\":\"scattergeo\",\"marker\":{\"colorbar\":{\"outlinewidth\":0,\"ticks\":\"\"}}}],\"scatterpolar\":[{\"type\":\"scatterpolar\",\"marker\":{\"colorbar\":{\"outlinewidth\":0,\"ticks\":\"\"}}}],\"histogram\":[{\"marker\":{\"pattern\":{\"fillmode\":\"overlay\",\"size\":10,\"solidity\":0.2}},\"type\":\"histogram\"}],\"scattergl\":[{\"type\":\"scattergl\",\"marker\":{\"colorbar\":{\"outlinewidth\":0,\"ticks\":\"\"}}}],\"scatter3d\":[{\"type\":\"scatter3d\",\"line\":{\"colorbar\":{\"outlinewidth\":0,\"ticks\":\"\"}},\"marker\":{\"colorbar\":{\"outlinewidth\":0,\"ticks\":\"\"}}}],\"scattermapbox\":[{\"type\":\"scattermapbox\",\"marker\":{\"colorbar\":{\"outlinewidth\":0,\"ticks\":\"\"}}}],\"scatterternary\":[{\"type\":\"scatterternary\",\"marker\":{\"colorbar\":{\"outlinewidth\":0,\"ticks\":\"\"}}}],\"scattercarpet\":[{\"type\":\"scattercarpet\",\"marker\":{\"colorbar\":{\"outlinewidth\":0,\"ticks\":\"\"}}}],\"carpet\":[{\"aaxis\":{\"endlinecolor\":\"#2a3f5f\",\"gridcolor\":\"white\",\"linecolor\":\"white\",\"minorgridcolor\":\"white\",\"startlinecolor\":\"#2a3f5f\"},\"baxis\":{\"endlinecolor\":\"#2a3f5f\",\"gridcolor\":\"white\",\"linecolor\":\"white\",\"minorgridcolor\":\"white\",\"startlinecolor\":\"#2a3f5f\"},\"type\":\"carpet\"}],\"table\":[{\"cells\":{\"fill\":{\"color\":\"#EBF0F8\"},\"line\":{\"color\":\"white\"}},\"header\":{\"fill\":{\"color\":\"#C8D4E3\"},\"line\":{\"color\":\"white\"}},\"type\":\"table\"}],\"barpolar\":[{\"marker\":{\"line\":{\"color\":\"#E5ECF6\",\"width\":0.5},\"pattern\":{\"fillmode\":\"overlay\",\"size\":10,\"solidity\":0.2}},\"type\":\"barpolar\"}],\"pie\":[{\"automargin\":true,\"type\":\"pie\"}]},\"layout\":{\"autotypenumbers\":\"strict\",\"colorway\":[\"#636efa\",\"#EF553B\",\"#00cc96\",\"#ab63fa\",\"#FFA15A\",\"#19d3f3\",\"#FF6692\",\"#B6E880\",\"#FF97FF\",\"#FECB52\"],\"font\":{\"color\":\"#2a3f5f\"},\"hovermode\":\"closest\",\"hoverlabel\":{\"align\":\"left\"},\"paper_bgcolor\":\"white\",\"plot_bgcolor\":\"#E5ECF6\",\"polar\":{\"bgcolor\":\"#E5ECF6\",\"angularaxis\":{\"gridcolor\":\"white\",\"linecolor\":\"white\",\"ticks\":\"\"},\"radialaxis\":{\"gridcolor\":\"white\",\"linecolor\":\"white\",\"ticks\":\"\"}},\"ternary\":{\"bgcolor\":\"#E5ECF6\",\"aaxis\":{\"gridcolor\":\"white\",\"linecolor\":\"white\",\"ticks\":\"\"},\"baxis\":{\"gridcolor\":\"white\",\"linecolor\":\"white\",\"ticks\":\"\"},\"caxis\":{\"gridcolor\":\"white\",\"linecolor\":\"white\",\"ticks\":\"\"}},\"coloraxis\":{\"colorbar\":{\"outlinewidth\":0,\"ticks\":\"\"}},\"colorscale\":{\"sequential\":[[0.0,\"#0d0887\"],[0.1111111111111111,\"#46039f\"],[0.2222222222222222,\"#7201a8\"],[0.3333333333333333,\"#9c179e\"],[0.4444444444444444,\"#bd3786\"],[0.5555555555555556,\"#d8576b\"],[0.6666666666666666,\"#ed7953\"],[0.7777777777777778,\"#fb9f3a\"],[0.8888888888888888,\"#fdca26\"],[1.0,\"#f0f921\"]],\"sequentialminus\":[[0.0,\"#0d0887\"],[0.1111111111111111,\"#46039f\"],[0.2222222222222222,\"#7201a8\"],[0.3333333333333333,\"#9c179e\"],[0.4444444444444444,\"#bd3786\"],[0.5555555555555556,\"#d8576b\"],[0.6666666666666666,\"#ed7953\"],[0.7777777777777778,\"#fb9f3a\"],[0.8888888888888888,\"#fdca26\"],[1.0,\"#f0f921\"]],\"diverging\":[[0,\"#8e0152\"],[0.1,\"#c51b7d\"],[0.2,\"#de77ae\"],[0.3,\"#f1b6da\"],[0.4,\"#fde0ef\"],[0.5,\"#f7f7f7\"],[0.6,\"#e6f5d0\"],[0.7,\"#b8e186\"],[0.8,\"#7fbc41\"],[0.9,\"#4d9221\"],[1,\"#276419\"]]},\"xaxis\":{\"gridcolor\":\"white\",\"linecolor\":\"white\",\"ticks\":\"\",\"title\":{\"standoff\":15},\"zerolinecolor\":\"white\",\"automargin\":true,\"zerolinewidth\":2},\"yaxis\":{\"gridcolor\":\"white\",\"linecolor\":\"white\",\"ticks\":\"\",\"title\":{\"standoff\":15},\"zerolinecolor\":\"white\",\"automargin\":true,\"zerolinewidth\":2},\"scene\":{\"xaxis\":{\"backgroundcolor\":\"#E5ECF6\",\"gridcolor\":\"white\",\"linecolor\":\"white\",\"showbackground\":true,\"ticks\":\"\",\"zerolinecolor\":\"white\",\"gridwidth\":2},\"yaxis\":{\"backgroundcolor\":\"#E5ECF6\",\"gridcolor\":\"white\",\"linecolor\":\"white\",\"showbackground\":true,\"ticks\":\"\",\"zerolinecolor\":\"white\",\"gridwidth\":2},\"zaxis\":{\"backgroundcolor\":\"#E5ECF6\",\"gridcolor\":\"white\",\"linecolor\":\"white\",\"showbackground\":true,\"ticks\":\"\",\"zerolinecolor\":\"white\",\"gridwidth\":2}},\"shapedefaults\":{\"line\":{\"color\":\"#2a3f5f\"}},\"annotationdefaults\":{\"arrowcolor\":\"#2a3f5f\",\"arrowhead\":0,\"arrowwidth\":1},\"geo\":{\"bgcolor\":\"white\",\"landcolor\":\"#E5ECF6\",\"subunitcolor\":\"white\",\"showland\":true,\"showlakes\":true,\"lakecolor\":\"white\"},\"title\":{\"x\":0.05},\"mapbox\":{\"style\":\"light\"}}},\"xaxis\":{\"anchor\":\"y\",\"domain\":[0.0,1.0],\"title\":{\"text\":\"xG\"}},\"yaxis\":{\"anchor\":\"x\",\"domain\":[0.0,1.0],\"title\":{\"text\":\"xGA\"}},\"legend\":{\"tracegroupgap\":0},\"title\":{\"text\":\"xG vs xGA (ประสิทธิภาพเกมรุก–เกมรับ)\"},\"shapes\":[{\"line\":{\"color\":\"gray\",\"dash\":\"dash\"},\"type\":\"line\",\"x0\":6.8,\"x1\":16.3,\"y0\":6.8,\"y1\":16.3}]},                        {\"responsive\": true}                    ).then(function(){\n",
              "                            \n",
              "var gd = document.getElementById('da7b8dc3-af63-43e1-9938-e746aca9a561');\n",
              "var x = new MutationObserver(function (mutations, observer) {{\n",
              "        var display = window.getComputedStyle(gd).display;\n",
              "        if (!display || display === 'none') {{\n",
              "            console.log([gd, 'removed!']);\n",
              "            Plotly.purge(gd);\n",
              "            observer.disconnect();\n",
              "        }}\n",
              "}});\n",
              "\n",
              "// Listen for the removal of the full notebook cells\n",
              "var notebookContainer = gd.closest('#notebook-container');\n",
              "if (notebookContainer) {{\n",
              "    x.observe(notebookContainer, {childList: true});\n",
              "}}\n",
              "\n",
              "// Listen for the clearing of the current output cell\n",
              "var outputEl = gd.closest('.output');\n",
              "if (outputEl) {{\n",
              "    x.observe(outputEl, {childList: true});\n",
              "}}\n",
              "\n",
              "                        })                };                            </script>        </div>\n",
              "</body>\n",
              "</html>"
            ]
          },
          "metadata": {}
        }
      ]
    }
  ]
}