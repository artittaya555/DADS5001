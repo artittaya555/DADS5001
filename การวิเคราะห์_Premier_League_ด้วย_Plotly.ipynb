{
  "nbformat": 4,
  "nbformat_minor": 0,
  "metadata": {
    "colab": {
      "provenance": [],
      "authorship_tag": "ABX9TyPwgYrdpkrFLRpJneyucGzn",
      "include_colab_link": true
    },
    "kernelspec": {
      "name": "python3",
      "display_name": "Python 3"
    },
    "language_info": {
      "name": "python"
    }
  },
  "cells": [
    {
      "cell_type": "markdown",
      "metadata": {
        "id": "view-in-github",
        "colab_type": "text"
      },
      "source": [
        "<a href=\"https://colab.research.google.com/github/artittaya555/DADS5001/blob/main/%E0%B8%81%E0%B8%B2%E0%B8%A3%E0%B8%A7%E0%B8%B4%E0%B9%80%E0%B8%84%E0%B8%A3%E0%B8%B2%E0%B8%B0%E0%B8%AB%E0%B9%8C_Premier_League_%E0%B8%94%E0%B9%89%E0%B8%A7%E0%B8%A2_Plotly.ipynb\" target=\"_parent\"><img src=\"https://colab.research.google.com/assets/colab-badge.svg\" alt=\"Open In Colab\"/></a>"
      ]
    },
    {
      "cell_type": "markdown",
      "source": [
        "# การวิเคราะห์ Premier League ด้วย Plotly\n"
      ],
      "metadata": {
        "id": "5Kh-CNmd2q64"
      }
    },
    {
      "cell_type": "markdown",
      "source": [
        "การวิเคราะห์นี้เป็นส่วนหนึ่งของวิชา DADS 5001 เครื่องมือและการเขียนโปรแกรมสำหรับการวิเคราะห์ข้อมูลและวิทยาการข้อมูล\" (Data Analytics and Data Science Tools and Programming)\n",
        "\n",
        "โดย 6720422003 อาทิตยา พุทธโอวาท"
      ],
      "metadata": {
        "id": "rJt5WQIJ2QFE"
      }
    },
    {
      "cell_type": "code",
      "execution_count": 12,
      "metadata": {
        "colab": {
          "base_uri": "https://localhost:8080/"
        },
        "id": "b1Msa2PN0eaa",
        "outputId": "b98f0ef5-1ca0-4afe-e768-53e79b937acd"
      },
      "outputs": [
        {
          "output_type": "stream",
          "name": "stdout",
          "text": [
            "   Rk             Team  MP  W  D  L  GF  GA  GD  Pts  Pts/MP    xG   xGA  xGD  \\\n",
            "0   1          Arsenal   9  7  1  1  16   3  13   22    2.44  14.6   5.2  9.3   \n",
            "1   2      Bournemouth   9  5  1  3  16  11   5   18    2.00  11.0  11.1 -0.1   \n",
            "2   3        Tottenham   9  5  2  2  17  10   7   17    1.89   9.9  10.7 -0.8   \n",
            "3   4       Sunderland   9  5  2  2  15  11   4   17    1.89  10.5  10.4  0.1   \n",
            "4   5  Manchester City   9  5  1  3  17   7  10   16    1.78  15.9   9.0  6.6   \n",
            "\n",
            "   xGD/90  Last5  Attendance                         Top Scorer  \\\n",
            "0    1.04  WWDWW       60144                Viktor Gyökeres - 3   \n",
            "1   -0.01  DWDWL       11164                Antoine Semenyo - 6   \n",
            "2   -0.09  DDWLW       61039  Richarlison, Micky van de Ven - 3   \n",
            "3   -0.02  DWLWW       46335                  Wilson Isidor - 4   \n",
            "4    0.74  WLWLW       52311                Erling Haaland - 11   \n",
            "\n",
            "             Goalkeeper  \n",
            "0            David Raya  \n",
            "1        Đorđe Petrović  \n",
            "2     Guglielmo Vicario  \n",
            "3           Robin Roefs  \n",
            "4  Gianluigi Donnarumma  \n"
          ]
        }
      ],
      "source": [
        "import pandas as pd\n",
        "\n",
        "data = [\n",
        "    {\"Rk\": 1, \"Team\": \"Arsenal\", \"MP\": 9, \"W\": 7, \"D\": 1, \"L\": 1, \"GF\": 16, \"GA\": 3, \"GD\": 13, \"Pts\": 22,\n",
        "     \"Pts/MP\": 2.44, \"xG\": 14.6, \"xGA\": 5.2, \"xGD\": 9.3, \"xGD/90\": 1.04, \"Last5\": \"WWDWW\",\n",
        "     \"Attendance\": 60144, \"Top Scorer\": \"Viktor Gyökeres - 3\", \"Goalkeeper\": \"David Raya\"},\n",
        "\n",
        "    {\"Rk\": 2, \"Team\": \"Bournemouth\", \"MP\": 9, \"W\": 5, \"D\": 1, \"L\": 3, \"GF\": 16, \"GA\": 11, \"GD\": 5, \"Pts\": 18,\n",
        "     \"Pts/MP\": 2.00, \"xG\": 11.0, \"xGA\": 11.1, \"xGD\": -0.1, \"xGD/90\": -0.01, \"Last5\": \"DWDWL\",\n",
        "     \"Attendance\": 11164, \"Top Scorer\": \"Antoine Semenyo - 6\", \"Goalkeeper\": \"Đorđe Petrović\"},\n",
        "\n",
        "    {\"Rk\": 3, \"Team\": \"Tottenham\", \"MP\": 9, \"W\": 5, \"D\": 2, \"L\": 2, \"GF\": 17, \"GA\": 10, \"GD\": 7, \"Pts\": 17,\n",
        "     \"Pts/MP\": 1.89, \"xG\": 9.9, \"xGA\": 10.7, \"xGD\": -0.8, \"xGD/90\": -0.09, \"Last5\": \"DDWLW\",\n",
        "     \"Attendance\": 61039, \"Top Scorer\": \"Richarlison, Micky van de Ven - 3\", \"Goalkeeper\": \"Guglielmo Vicario\"},\n",
        "\n",
        "    {\"Rk\": 4, \"Team\": \"Sunderland\", \"MP\": 9, \"W\": 5, \"D\": 2, \"L\": 2, \"GF\": 15, \"GA\": 11, \"GD\": 4, \"Pts\": 17,\n",
        "     \"Pts/MP\": 1.89, \"xG\": 10.5, \"xGA\": 10.4, \"xGD\": 0.1, \"xGD/90\": -0.02, \"Last5\": \"DWLWW\",\n",
        "     \"Attendance\": 46335, \"Top Scorer\": \"Wilson Isidor - 4\", \"Goalkeeper\": \"Robin Roefs\"},\n",
        "\n",
        "    {\"Rk\": 5, \"Team\": \"Manchester City\", \"MP\": 9, \"W\": 5, \"D\": 1, \"L\": 3, \"GF\": 17, \"GA\": 7, \"GD\": 10, \"Pts\": 16,\n",
        "     \"Pts/MP\": 1.78, \"xG\": 15.9, \"xGA\": 9.0, \"xGD\": 6.6, \"xGD/90\": 0.74, \"Last5\": \"WLWLW\",\n",
        "     \"Attendance\": 52311, \"Top Scorer\": \"Erling Haaland - 11\", \"Goalkeeper\": \"Gianluigi Donnarumma\"},\n",
        "\n",
        "    {\"Rk\": 6, \"Team\": \"Manchester United\", \"MP\": 9, \"W\": 5, \"D\": 1, \"L\": 3, \"GF\": 15, \"GA\": 14, \"GD\": 1, \"Pts\": 16,\n",
        "     \"Pts/MP\": 1.78, \"xG\": 16.3, \"xGA\": 13.6, \"xGD\": 2.6, \"xGD/90\": 0.29, \"Last5\": \"WLWLW\",\n",
        "     \"Attendance\": 73997, \"Top Scorer\": \"Bryan Mbeumo - 4\", \"Goalkeeper\": \"Altay Bayindir\"},\n",
        "\n",
        "    {\"Rk\": 7, \"Team\": \"Liverpool\", \"MP\": 9, \"W\": 5, \"D\": 0, \"L\": 4, \"GF\": 16, \"GA\": 14, \"GD\": 2, \"Pts\": 15,\n",
        "     \"Pts/MP\": 1.67, \"xG\": 15.8, \"xGA\": 13.0, \"xGD\": 3.7, \"xGD/90\": 0.42, \"Last5\": \"WLLLL\",\n",
        "     \"Attendance\": 60362, \"Top Scorer\": \"Mohamed Salah, Cody Gakpo - 3\", \"Goalkeeper\": \"Alisson\"},\n",
        "\n",
        "    {\"Rk\": 8, \"Team\": \"Aston Villa\", \"MP\": 9, \"W\": 4, \"D\": 3, \"L\": 2, \"GF\": 11, \"GA\": 8, \"GD\": 3, \"Pts\": 15,\n",
        "     \"Pts/MP\": 1.67, \"xG\": 7.1, \"xGA\": 11.8, \"xGD\": -4.7, \"xGD/90\": -0.52, \"Last5\": \"DWLWW\",\n",
        "     \"Attendance\": 41242, \"Top Scorer\": \"Emi Buendía, Donyell Malen - 2\", \"Goalkeeper\": \"Emiliano Martínez\"},\n",
        "\n",
        "    {\"Rk\": 9, \"Team\": \"Chelsea\", \"MP\": 9, \"W\": 4, \"D\": 2, \"L\": 3, \"GF\": 12, \"GA\": 11, \"GD\": 1, \"Pts\": 14,\n",
        "     \"Pts/MP\": 1.56, \"xG\": 13.4, \"xGA\": 13.1, \"xGD\": 0.3, \"xGD/90\": 0.03, \"Last5\": \"DLLWW\",\n",
        "     \"Attendance\": 39609, \"Top Scorer\": \"Enzo Fernández, Moisés Caicedo - 3\", \"Goalkeeper\": \"Robert Sánchez\"},\n",
        "\n",
        "    {\"Rk\": 10, \"Team\": \"Crystal Palace\", \"MP\": 9, \"W\": 4, \"D\": 1, \"L\": 4, \"GF\": 12, \"GA\": 9, \"GD\": 3, \"Pts\": 13,\n",
        "     \"Pts/MP\": 1.44, \"xG\": 11.7, \"xGA\": 7.5, \"xGD\": 4.2, \"xGD/90\": 0.65, \"Last5\": \"WLWDL\",\n",
        "     \"Attendance\": 25068, \"Top Scorer\": \"Jean-Philippe Mateta - 5\", \"Goalkeeper\": \"Dean Henderson\"},\n",
        "\n",
        "    {\"Rk\": 11, \"Team\": \"Brentford\", \"MP\": 9, \"W\": 4, \"D\": 1, \"L\": 4, \"GF\": 14, \"GA\": 13, \"GD\": 1, \"Pts\": 13,\n",
        "     \"Pts/MP\": 1.44, \"xG\": 14.9, \"xGA\": 12.2, \"xGD\": 2.7, \"xGD/90\": 0.31, \"Last5\": \"WLLWL\",\n",
        "     \"Attendance\": 17014, \"Top Scorer\": \"Thiago - 6\", \"Goalkeeper\": \"Caoimhín Kelleher\"},\n",
        "\n",
        "    {\"Rk\": 12, \"Team\": \"Newcastle United\", \"MP\": 9, \"W\": 3, \"D\": 3, \"L\": 3, \"GF\": 14, \"GA\": 13, \"GD\": 1, \"Pts\": 12,\n",
        "     \"Pts/MP\": 1.33, \"xG\": 11.9, \"xGA\": 7.0, \"xGD\": 4.9, \"xGD/90\": 0.55, \"Last5\": \"DLWLW\",\n",
        "     \"Attendance\": 52183, \"Top Scorer\": \"Nick Woltemade - 4\", \"Goalkeeper\": \"Nick Pope\"},\n",
        "\n",
        "    {\"Rk\": 13, \"Team\": \"Brighton\", \"MP\": 9, \"W\": 3, \"D\": 3, \"L\": 3, \"GF\": 14, \"GA\": 15, \"GD\": -1, \"Pts\": 12,\n",
        "     \"Pts/MP\": 1.33, \"xG\": 13.2, \"xGA\": 11.8, \"xGD\": 1.4, \"xGD/90\": 0.16, \"Last5\": \"WDLLL\",\n",
        "     \"Attendance\": 31518, \"Top Scorer\": \"Danny Welbeck - 5\", \"Goalkeeper\": \"Bart Verbruggen\"},\n",
        "\n",
        "    {\"Rk\": 14, \"Team\": \"Everton\", \"MP\": 9, \"W\": 3, \"D\": 2, \"L\": 4, \"GF\": 9, \"GA\": 12, \"GD\": -3, \"Pts\": 11,\n",
        "     \"Pts/MP\": 1.22, \"xG\": 12.5, \"xGA\": 13.6, \"xGD\": -1.1, \"xGD/90\": -0.12, \"Last5\": \"DLWLW\",\n",
        "     \"Attendance\": 51863, \"Top Scorer\": \"Iliman Ndiaye - 3\", \"Goalkeeper\": \"Jordan Pickford\"},\n",
        "\n",
        "    {\"Rk\": 15, \"Team\": \"Leeds United\", \"MP\": 9, \"W\": 3, \"D\": 2, \"L\": 4, \"GF\": 9, \"GA\": 14, \"GD\": -5, \"Pts\": 11,\n",
        "     \"Pts/MP\": 1.22, \"xG\": 11.5, \"xGA\": 9.0, \"xGD\": 2.5, \"xGD/90\": 0.28, \"Last5\": \"WDLWL\",\n",
        "     \"Attendance\": 36722, \"Top Scorer\": \"Joe Rodon, Noah Okafor - 2\", \"Goalkeeper\": \"Karl Darlow\"},\n",
        "\n",
        "    {\"Rk\": 16, \"Team\": \"Burnley\", \"MP\": 9, \"W\": 3, \"D\": 1, \"L\": 5, \"GF\": 12, \"GA\": 17, \"GD\": -5, \"Pts\": 10,\n",
        "     \"Pts/MP\": 1.11, \"xG\": 6.8, \"xGA\": 11.8, \"xGD\": -5.0, \"xGD/90\": -1.26, \"Last5\": \"DLWLW\",\n",
        "     \"Attendance\": 21521, \"Top Scorer\": \"Jaidon Anthony - 4\", \"Goalkeeper\": \"Martin Dúbravka\"},\n",
        "\n",
        "    {\"Rk\": 17, \"Team\": \"Fulham\", \"MP\": 9, \"W\": 2, \"D\": 2, \"L\": 5, \"GF\": 9, \"GA\": 15, \"GD\": -6, \"Pts\": 8,\n",
        "     \"Pts/MP\": 0.89, \"xG\": 9.4, \"xGA\": 14.6, \"xGD\": -5.1, \"xGD/90\": -0.42, \"Last5\": \"WLLLL\",\n",
        "     \"Attendance\": 27472, \"Top Scorer\": \"Raúl Jiménez, Alex Iwobi - 2\", \"Goalkeeper\": \"Bernd Leno\"},\n",
        "\n",
        "    {\"Rk\": 18, \"Team\": \"Nottingham Forest\", \"MP\": 9, \"W\": 1, \"D\": 2, \"L\": 6, \"GF\": 7, \"GA\": 12, \"GD\": -5, \"Pts\": 5,\n",
        "     \"Pts/MP\": 0.56, \"xG\": 8.4, \"xGA\": 13.9, \"xGD\": -5.5, \"xGD/90\": -0.61, \"Last5\": \"DLLLL\",\n",
        "     \"Attendance\": 30221, \"Top Scorer\": \"Chris Wood - 2\", \"Goalkeeper\": \"Matz Sels\"},\n",
        "\n",
        "    {\"Rk\": 19, \"Team\": \"West Ham\", \"MP\": 9, \"W\": 1, \"D\": 1, \"L\": 7, \"GF\": 9, \"GA\": 20, \"GD\": -11, \"Pts\": 4,\n",
        "     \"Pts/MP\": 0.44, \"xG\": 7.6, \"xGA\": 14.8, \"xGD\": -7.2, \"xGD/90\": -0.80, \"Last5\": \"DLLLL\",\n",
        "     \"Attendance\": 62457, \"Top Scorer\": \"Jarrod Bowen - 3\", \"Goalkeeper\": \"Alphonse Areola\"},\n",
        "\n",
        "    {\"Rk\": 20, \"Team\": \"Wolves\", \"MP\": 9, \"W\": 0, \"D\": 2, \"L\": 7, \"GF\": 7, \"GA\": 19, \"GD\": -12, \"Pts\": 2,\n",
        "     \"Pts/MP\": 0.22, \"xG\": 9.2, \"xGA\": 11.4, \"xGD\": -2.2, \"xGD/90\": -0.25, \"Last5\": \"LLLLD\",\n",
        "     \"Attendance\": 30231, \"Top Scorer\": \"Hwang Hee-chan, Santiago Bueno - 1\", \"Goalkeeper\": \"Sam Johnstone\"},\n",
        "]\n",
        "\n",
        "df = pd.DataFrame(data)\n",
        "print(df.head())\n"
      ]
    },
    {
      "cell_type": "markdown",
      "source": [
        "### คำอธิบายแต่ละคอลัมน์\n",
        "\n",
        "* **Rk** — Rank – ลำดับในตาราง  \n",
        "  ใช้เรียงทีมตามคะแนน (อันดับ 1 = คะแนนมากสุด)\n",
        "\n",
        "* **Team** — Squad name – ชื่อทีม  \n",
        "  ตัวระบุทีมในลีก เช่น Arsenal, Man City\n",
        "\n",
        "* **MP** — Matches Played – แข่งกี่นัด  \n",
        "  ถ้า MP = 9 หมายถึงทีมลงเล่น 9 เกมแล้ว\n",
        "\n",
        "* **W** — Wins – ชนะกี่นัด  \n",
        "  แต่ละนัดชนะได้ 3 คะแนน\n",
        "\n",
        "* **D** — Draws – เสมอกี่นัด  \n",
        "  เสมอได้ 1 คะแนน\n",
        "\n",
        "* **L** — Losses – แพ้กี่นัด  \n",
        "  แพ้ไม่ได้คะแนน\n",
        "\n",
        "* **GF** — Goals For – จำนวนประตูที่ยิงได้  \n",
        "  ใช้วัดประสิทธิภาพเกมรุก เช่น Arsenal ยิงได้ 16 ลูก\n",
        "\n",
        "* **GA** — Goals Against – จำนวนประตูที่เสีย  \n",
        "  วัดความแข็งแกร่งเกมรับ ยิ่งน้อยยิ่งดี\n",
        "\n",
        "* **GD** — Goal Difference (GF−GA) – ผลต่างประตูได้-เสีย  \n",
        "  ใช้ชี้ความสมดุลของทีม ยิ่งมากแปลว่ารุกดีกว่ารับมาก\n",
        "\n",
        "* **Pts** — Points – คะแนนรวม  \n",
        "  คำนวณจาก 3×W + 1×D + 0×L ใช้จัดอันดับในตาราง\n",
        "\n",
        "* **Pts/MP** — Points per Match – คะแนนเฉลี่ยต่อนัด  \n",
        "  ใช้เปรียบเทียบทีมที่แข่งไม่เท่ากัน (เช่น 1.78 = 1.78 คะแนนต่อเกม)\n",
        "\n",
        "* **xG** — Expected Goals – จำนวนประตูคาดหวังจากคุณภาพโอกาสยิง  \n",
        "  วัด “คุณภาพเกมรุก” โดยดูจากโอกาสยิงจริง ไม่ใช่แค่จำนวนประตูที่ได้\n",
        "\n",
        "* **xGA** — Expected Goals Against – จำนวนประตูคาดหวังที่คู่แข่งน่าจะยิงได้  \n",
        "  วัด “คุณภาพเกมรับ” ถ้ายิ่งน้อยแปลว่าทีมป้องกันดี\n",
        "\n",
        "* **xGD** — xG Difference (xG−xGA) – ผลต่างเกมรุก-รับเชิงคุณภาพ  \n",
        "  ถ้า xGD เป็นบวก = เกมรุกดีกว่าเกมรับตามคุณภาพที่คำนวณ\n",
        "\n",
        "* **xGD/90** — xGD per 90 minutes – ค่าผลต่างต่อ 90 นาที  \n",
        "  วัดความได้เปรียบเฉลี่ยในแต่ละเกม (ใช้เทียบระหว่างทีมได้ดี)\n",
        "\n",
        "* **Last5** — Last 5 Matches Form – ฟอร์ม 5 นัดหลังสุด  \n",
        "  แสดงเป็นตัวอักษร W (ชนะ), D (เสมอ), L (แพ้) เช่น “WWDWW” = ฟอร์มดีมาก\n",
        "\n",
        "* **Attendance** — Average Home Attendance – จำนวนผู้ชมเฉลี่ยต่อเกมเหย้า  \n",
        "  บ่งบอกความนิยมและฐานแฟนคลับของทีม\n",
        "\n",
        "* **Top Scorer** — Top Team Scorer – ผู้ทำประตูสูงสุดในทีม  \n",
        "  ใช้ดูว่าใครเป็นจุดเด่นของเกมรุก\n",
        "\n",
        "* **Goalkeeper** — Main Goalkeeper – ผู้รักษาประตูหลัก  \n",
        "  ใช้ในเชิงวิเคราะห์เกมรับ เช่น ทีมที่เสียประตูน้อยอาจมี GK ฟอร์มดี\n",
        "\n",
        "* **Notes** *(บางตารางอาจมี)* — หมายเหตุเพิ่มเติม  \n",
        "  มักใช้บันทึกสถานะ เช่น “newly promoted”, “injuries”, หรือ “match postponed”\n"
      ],
      "metadata": {
        "id": "lSsxXFCQ8yHM"
      }
    },
    {
      "cell_type": "code",
      "source": [
        "import plotly.express as px\n",
        "\n",
        "fig = px.bar(df, x=\"Team\", y=\"Pts\", text=\"Pts\", title=\"กราฟที่ 1 คะแนนรวมแต่ละทีม (Premier League)\")\n",
        "fig.update_xaxes(type='category', tickangle=270) #ระบุองศาของตัวหนังสือในแกน x\n",
        "fig.update_traces(textposition=\"outside\", marker_color=\"#ADA4CB\") #กำหนดตำแหน่งของตัวหนังสือบนกราฟ\n",
        "fig.show()"
      ],
      "metadata": {
        "colab": {
          "base_uri": "https://localhost:8080/",
          "height": 542
        },
        "id": "hcfrd6Bs8t0a",
        "outputId": "216fa41e-6230-488c-e7f8-17627b0db824"
      },
      "execution_count": 44,
      "outputs": [
        {
          "output_type": "display_data",
          "data": {
            "text/html": [
              "<html>\n",
              "<head><meta charset=\"utf-8\" /></head>\n",
              "<body>\n",
              "    <div>            <script src=\"https://cdnjs.cloudflare.com/ajax/libs/mathjax/2.7.5/MathJax.js?config=TeX-AMS-MML_SVG\"></script><script type=\"text/javascript\">if (window.MathJax && window.MathJax.Hub && window.MathJax.Hub.Config) {window.MathJax.Hub.Config({SVG: {font: \"STIX-Web\"}});}</script>                <script type=\"text/javascript\">window.PlotlyConfig = {MathJaxConfig: 'local'};</script>\n",
              "        <script charset=\"utf-8\" src=\"https://cdn.plot.ly/plotly-2.35.2.min.js\"></script>                <div id=\"933da6c9-815e-4f3c-9600-df92d7e412fa\" class=\"plotly-graph-div\" style=\"height:525px; width:100%;\"></div>            <script type=\"text/javascript\">                                    window.PLOTLYENV=window.PLOTLYENV || {};                                    if (document.getElementById(\"933da6c9-815e-4f3c-9600-df92d7e412fa\")) {                    Plotly.newPlot(                        \"933da6c9-815e-4f3c-9600-df92d7e412fa\",                        [{\"alignmentgroup\":\"True\",\"hovertemplate\":\"Team=%{x}\\u003cbr\\u003ePts=%{text}\\u003cextra\\u003e\\u003c\\u002fextra\\u003e\",\"legendgroup\":\"\",\"marker\":{\"color\":\"#ADA4CB\",\"pattern\":{\"shape\":\"\"}},\"name\":\"\",\"offsetgroup\":\"\",\"orientation\":\"v\",\"showlegend\":false,\"text\":[22.0,18.0,17.0,17.0,16.0,16.0,15.0,15.0,14.0,13.0,13.0,12.0,12.0,11.0,11.0,10.0,8.0,5.0,4.0,2.0],\"textposition\":\"outside\",\"x\":[\"Arsenal\",\"Bournemouth\",\"Tottenham\",\"Sunderland\",\"Manchester City\",\"Manchester United\",\"Liverpool\",\"Aston Villa\",\"Chelsea\",\"Crystal Palace\",\"Brentford\",\"Newcastle United\",\"Brighton\",\"Everton\",\"Leeds United\",\"Burnley\",\"Fulham\",\"Nottingham Forest\",\"West Ham\",\"Wolves\"],\"xaxis\":\"x\",\"y\":[22,18,17,17,16,16,15,15,14,13,13,12,12,11,11,10,8,5,4,2],\"yaxis\":\"y\",\"type\":\"bar\"}],                        {\"template\":{\"data\":{\"histogram2dcontour\":[{\"type\":\"histogram2dcontour\",\"colorbar\":{\"outlinewidth\":0,\"ticks\":\"\"},\"colorscale\":[[0.0,\"#0d0887\"],[0.1111111111111111,\"#46039f\"],[0.2222222222222222,\"#7201a8\"],[0.3333333333333333,\"#9c179e\"],[0.4444444444444444,\"#bd3786\"],[0.5555555555555556,\"#d8576b\"],[0.6666666666666666,\"#ed7953\"],[0.7777777777777778,\"#fb9f3a\"],[0.8888888888888888,\"#fdca26\"],[1.0,\"#f0f921\"]]}],\"choropleth\":[{\"type\":\"choropleth\",\"colorbar\":{\"outlinewidth\":0,\"ticks\":\"\"}}],\"histogram2d\":[{\"type\":\"histogram2d\",\"colorbar\":{\"outlinewidth\":0,\"ticks\":\"\"},\"colorscale\":[[0.0,\"#0d0887\"],[0.1111111111111111,\"#46039f\"],[0.2222222222222222,\"#7201a8\"],[0.3333333333333333,\"#9c179e\"],[0.4444444444444444,\"#bd3786\"],[0.5555555555555556,\"#d8576b\"],[0.6666666666666666,\"#ed7953\"],[0.7777777777777778,\"#fb9f3a\"],[0.8888888888888888,\"#fdca26\"],[1.0,\"#f0f921\"]]}],\"heatmap\":[{\"type\":\"heatmap\",\"colorbar\":{\"outlinewidth\":0,\"ticks\":\"\"},\"colorscale\":[[0.0,\"#0d0887\"],[0.1111111111111111,\"#46039f\"],[0.2222222222222222,\"#7201a8\"],[0.3333333333333333,\"#9c179e\"],[0.4444444444444444,\"#bd3786\"],[0.5555555555555556,\"#d8576b\"],[0.6666666666666666,\"#ed7953\"],[0.7777777777777778,\"#fb9f3a\"],[0.8888888888888888,\"#fdca26\"],[1.0,\"#f0f921\"]]}],\"heatmapgl\":[{\"type\":\"heatmapgl\",\"colorbar\":{\"outlinewidth\":0,\"ticks\":\"\"},\"colorscale\":[[0.0,\"#0d0887\"],[0.1111111111111111,\"#46039f\"],[0.2222222222222222,\"#7201a8\"],[0.3333333333333333,\"#9c179e\"],[0.4444444444444444,\"#bd3786\"],[0.5555555555555556,\"#d8576b\"],[0.6666666666666666,\"#ed7953\"],[0.7777777777777778,\"#fb9f3a\"],[0.8888888888888888,\"#fdca26\"],[1.0,\"#f0f921\"]]}],\"contourcarpet\":[{\"type\":\"contourcarpet\",\"colorbar\":{\"outlinewidth\":0,\"ticks\":\"\"}}],\"contour\":[{\"type\":\"contour\",\"colorbar\":{\"outlinewidth\":0,\"ticks\":\"\"},\"colorscale\":[[0.0,\"#0d0887\"],[0.1111111111111111,\"#46039f\"],[0.2222222222222222,\"#7201a8\"],[0.3333333333333333,\"#9c179e\"],[0.4444444444444444,\"#bd3786\"],[0.5555555555555556,\"#d8576b\"],[0.6666666666666666,\"#ed7953\"],[0.7777777777777778,\"#fb9f3a\"],[0.8888888888888888,\"#fdca26\"],[1.0,\"#f0f921\"]]}],\"surface\":[{\"type\":\"surface\",\"colorbar\":{\"outlinewidth\":0,\"ticks\":\"\"},\"colorscale\":[[0.0,\"#0d0887\"],[0.1111111111111111,\"#46039f\"],[0.2222222222222222,\"#7201a8\"],[0.3333333333333333,\"#9c179e\"],[0.4444444444444444,\"#bd3786\"],[0.5555555555555556,\"#d8576b\"],[0.6666666666666666,\"#ed7953\"],[0.7777777777777778,\"#fb9f3a\"],[0.8888888888888888,\"#fdca26\"],[1.0,\"#f0f921\"]]}],\"mesh3d\":[{\"type\":\"mesh3d\",\"colorbar\":{\"outlinewidth\":0,\"ticks\":\"\"}}],\"scatter\":[{\"fillpattern\":{\"fillmode\":\"overlay\",\"size\":10,\"solidity\":0.2},\"type\":\"scatter\"}],\"parcoords\":[{\"type\":\"parcoords\",\"line\":{\"colorbar\":{\"outlinewidth\":0,\"ticks\":\"\"}}}],\"scatterpolargl\":[{\"type\":\"scatterpolargl\",\"marker\":{\"colorbar\":{\"outlinewidth\":0,\"ticks\":\"\"}}}],\"bar\":[{\"error_x\":{\"color\":\"#2a3f5f\"},\"error_y\":{\"color\":\"#2a3f5f\"},\"marker\":{\"line\":{\"color\":\"#E5ECF6\",\"width\":0.5},\"pattern\":{\"fillmode\":\"overlay\",\"size\":10,\"solidity\":0.2}},\"type\":\"bar\"}],\"scattergeo\":[{\"type\":\"scattergeo\",\"marker\":{\"colorbar\":{\"outlinewidth\":0,\"ticks\":\"\"}}}],\"scatterpolar\":[{\"type\":\"scatterpolar\",\"marker\":{\"colorbar\":{\"outlinewidth\":0,\"ticks\":\"\"}}}],\"histogram\":[{\"marker\":{\"pattern\":{\"fillmode\":\"overlay\",\"size\":10,\"solidity\":0.2}},\"type\":\"histogram\"}],\"scattergl\":[{\"type\":\"scattergl\",\"marker\":{\"colorbar\":{\"outlinewidth\":0,\"ticks\":\"\"}}}],\"scatter3d\":[{\"type\":\"scatter3d\",\"line\":{\"colorbar\":{\"outlinewidth\":0,\"ticks\":\"\"}},\"marker\":{\"colorbar\":{\"outlinewidth\":0,\"ticks\":\"\"}}}],\"scattermapbox\":[{\"type\":\"scattermapbox\",\"marker\":{\"colorbar\":{\"outlinewidth\":0,\"ticks\":\"\"}}}],\"scatterternary\":[{\"type\":\"scatterternary\",\"marker\":{\"colorbar\":{\"outlinewidth\":0,\"ticks\":\"\"}}}],\"scattercarpet\":[{\"type\":\"scattercarpet\",\"marker\":{\"colorbar\":{\"outlinewidth\":0,\"ticks\":\"\"}}}],\"carpet\":[{\"aaxis\":{\"endlinecolor\":\"#2a3f5f\",\"gridcolor\":\"white\",\"linecolor\":\"white\",\"minorgridcolor\":\"white\",\"startlinecolor\":\"#2a3f5f\"},\"baxis\":{\"endlinecolor\":\"#2a3f5f\",\"gridcolor\":\"white\",\"linecolor\":\"white\",\"minorgridcolor\":\"white\",\"startlinecolor\":\"#2a3f5f\"},\"type\":\"carpet\"}],\"table\":[{\"cells\":{\"fill\":{\"color\":\"#EBF0F8\"},\"line\":{\"color\":\"white\"}},\"header\":{\"fill\":{\"color\":\"#C8D4E3\"},\"line\":{\"color\":\"white\"}},\"type\":\"table\"}],\"barpolar\":[{\"marker\":{\"line\":{\"color\":\"#E5ECF6\",\"width\":0.5},\"pattern\":{\"fillmode\":\"overlay\",\"size\":10,\"solidity\":0.2}},\"type\":\"barpolar\"}],\"pie\":[{\"automargin\":true,\"type\":\"pie\"}]},\"layout\":{\"autotypenumbers\":\"strict\",\"colorway\":[\"#636efa\",\"#EF553B\",\"#00cc96\",\"#ab63fa\",\"#FFA15A\",\"#19d3f3\",\"#FF6692\",\"#B6E880\",\"#FF97FF\",\"#FECB52\"],\"font\":{\"color\":\"#2a3f5f\"},\"hovermode\":\"closest\",\"hoverlabel\":{\"align\":\"left\"},\"paper_bgcolor\":\"white\",\"plot_bgcolor\":\"#E5ECF6\",\"polar\":{\"bgcolor\":\"#E5ECF6\",\"angularaxis\":{\"gridcolor\":\"white\",\"linecolor\":\"white\",\"ticks\":\"\"},\"radialaxis\":{\"gridcolor\":\"white\",\"linecolor\":\"white\",\"ticks\":\"\"}},\"ternary\":{\"bgcolor\":\"#E5ECF6\",\"aaxis\":{\"gridcolor\":\"white\",\"linecolor\":\"white\",\"ticks\":\"\"},\"baxis\":{\"gridcolor\":\"white\",\"linecolor\":\"white\",\"ticks\":\"\"},\"caxis\":{\"gridcolor\":\"white\",\"linecolor\":\"white\",\"ticks\":\"\"}},\"coloraxis\":{\"colorbar\":{\"outlinewidth\":0,\"ticks\":\"\"}},\"colorscale\":{\"sequential\":[[0.0,\"#0d0887\"],[0.1111111111111111,\"#46039f\"],[0.2222222222222222,\"#7201a8\"],[0.3333333333333333,\"#9c179e\"],[0.4444444444444444,\"#bd3786\"],[0.5555555555555556,\"#d8576b\"],[0.6666666666666666,\"#ed7953\"],[0.7777777777777778,\"#fb9f3a\"],[0.8888888888888888,\"#fdca26\"],[1.0,\"#f0f921\"]],\"sequentialminus\":[[0.0,\"#0d0887\"],[0.1111111111111111,\"#46039f\"],[0.2222222222222222,\"#7201a8\"],[0.3333333333333333,\"#9c179e\"],[0.4444444444444444,\"#bd3786\"],[0.5555555555555556,\"#d8576b\"],[0.6666666666666666,\"#ed7953\"],[0.7777777777777778,\"#fb9f3a\"],[0.8888888888888888,\"#fdca26\"],[1.0,\"#f0f921\"]],\"diverging\":[[0,\"#8e0152\"],[0.1,\"#c51b7d\"],[0.2,\"#de77ae\"],[0.3,\"#f1b6da\"],[0.4,\"#fde0ef\"],[0.5,\"#f7f7f7\"],[0.6,\"#e6f5d0\"],[0.7,\"#b8e186\"],[0.8,\"#7fbc41\"],[0.9,\"#4d9221\"],[1,\"#276419\"]]},\"xaxis\":{\"gridcolor\":\"white\",\"linecolor\":\"white\",\"ticks\":\"\",\"title\":{\"standoff\":15},\"zerolinecolor\":\"white\",\"automargin\":true,\"zerolinewidth\":2},\"yaxis\":{\"gridcolor\":\"white\",\"linecolor\":\"white\",\"ticks\":\"\",\"title\":{\"standoff\":15},\"zerolinecolor\":\"white\",\"automargin\":true,\"zerolinewidth\":2},\"scene\":{\"xaxis\":{\"backgroundcolor\":\"#E5ECF6\",\"gridcolor\":\"white\",\"linecolor\":\"white\",\"showbackground\":true,\"ticks\":\"\",\"zerolinecolor\":\"white\",\"gridwidth\":2},\"yaxis\":{\"backgroundcolor\":\"#E5ECF6\",\"gridcolor\":\"white\",\"linecolor\":\"white\",\"showbackground\":true,\"ticks\":\"\",\"zerolinecolor\":\"white\",\"gridwidth\":2},\"zaxis\":{\"backgroundcolor\":\"#E5ECF6\",\"gridcolor\":\"white\",\"linecolor\":\"white\",\"showbackground\":true,\"ticks\":\"\",\"zerolinecolor\":\"white\",\"gridwidth\":2}},\"shapedefaults\":{\"line\":{\"color\":\"#2a3f5f\"}},\"annotationdefaults\":{\"arrowcolor\":\"#2a3f5f\",\"arrowhead\":0,\"arrowwidth\":1},\"geo\":{\"bgcolor\":\"white\",\"landcolor\":\"#E5ECF6\",\"subunitcolor\":\"white\",\"showland\":true,\"showlakes\":true,\"lakecolor\":\"white\"},\"title\":{\"x\":0.05},\"mapbox\":{\"style\":\"light\"}}},\"xaxis\":{\"anchor\":\"y\",\"domain\":[0.0,1.0],\"title\":{\"text\":\"Team\"},\"type\":\"category\",\"tickangle\":-90},\"yaxis\":{\"anchor\":\"x\",\"domain\":[0.0,1.0],\"title\":{\"text\":\"Pts\"}},\"legend\":{\"tracegroupgap\":0},\"title\":{\"text\":\"กราฟที่ 1 คะแนนรวมแต่ละทีม (Premier League)\"},\"barmode\":\"relative\"},                        {\"responsive\": true}                    ).then(function(){\n",
              "                            \n",
              "var gd = document.getElementById('933da6c9-815e-4f3c-9600-df92d7e412fa');\n",
              "var x = new MutationObserver(function (mutations, observer) {{\n",
              "        var display = window.getComputedStyle(gd).display;\n",
              "        if (!display || display === 'none') {{\n",
              "            console.log([gd, 'removed!']);\n",
              "            Plotly.purge(gd);\n",
              "            observer.disconnect();\n",
              "        }}\n",
              "}});\n",
              "\n",
              "// Listen for the removal of the full notebook cells\n",
              "var notebookContainer = gd.closest('#notebook-container');\n",
              "if (notebookContainer) {{\n",
              "    x.observe(notebookContainer, {childList: true});\n",
              "}}\n",
              "\n",
              "// Listen for the clearing of the current output cell\n",
              "var outputEl = gd.closest('.output');\n",
              "if (outputEl) {{\n",
              "    x.observe(outputEl, {childList: true});\n",
              "}}\n",
              "\n",
              "                        })                };                            </script>        </div>\n",
              "</body>\n",
              "</html>"
            ]
          },
          "metadata": {}
        }
      ]
    },
    {
      "cell_type": "markdown",
      "source": [
        "จาก **กราฟที่ 1** จะเห็นว่าทีม Arsenal มีคะแนนรวมสูงที่สุดในลีก โดยเก็บได้ 22 คะแนน ซึ่งทิ้งห่างจากลำดับที่ 2 และ 3 ทีม Bournemouth และ Tottenham อยู่ 4 และ 5 คะแนน ตามลำดับ สะท้อนให้เห็นว่า Arsenal มีความสม่ำเสมอในการเก็บชัยชนะมากกว่าทีมอื่น"
      ],
      "metadata": {
        "id": "w1moHpz0-F3u"
      }
    },
    {
      "cell_type": "code",
      "source": [
        "fig = px.scatter( df, x=\"xG\", y=\"xGA\", text=\"Team\", title=\"กราฟที่ 2 คุณภาพเกมรุก–เกมรับ\")\n",
        "fig.update_traces(textposition=\"top center\") #กำหนดตำแหน่งของตัวหนังสือบนกราฟ\n",
        "\n",
        "#เส้นประสีเทาที่เอาไว้แบ่งกึ่งกลางของคะแนนในเกมรุก/รับ\n",
        "fig.add_shape(\n",
        "    type=\"line\", x0=df[\"xG\"].min(), y0=df[\"xG\"].min(),\n",
        "    x1=df[\"xG\"].max(), y1=df[\"xG\"].max(),\n",
        "    line=dict(dash=\"dash\", color=\"gray\")\n",
        ")\n",
        "\n",
        "#ธีมของกราฟและการกำหนดชื่อแกน\n",
        "fig.update_layout(\n",
        "    xaxis_title=\"xG (Expected Goals – เกมรุก)\",\n",
        "    yaxis_title=\"xGA (Expected Goals Against – เกมรับ)\",\n",
        "    template=\"plotly_white\"\n",
        ")\n",
        "\n",
        "\n",
        "fig.show()\n"
      ],
      "metadata": {
        "colab": {
          "base_uri": "https://localhost:8080/",
          "height": 542
        },
        "id": "WsMuTpbCAE46",
        "outputId": "dfdccf98-dbc2-47c2-9f9e-7edcffa1b3fc"
      },
      "execution_count": 27,
      "outputs": [
        {
          "output_type": "display_data",
          "data": {
            "text/html": [
              "<html>\n",
              "<head><meta charset=\"utf-8\" /></head>\n",
              "<body>\n",
              "    <div>            <script src=\"https://cdnjs.cloudflare.com/ajax/libs/mathjax/2.7.5/MathJax.js?config=TeX-AMS-MML_SVG\"></script><script type=\"text/javascript\">if (window.MathJax && window.MathJax.Hub && window.MathJax.Hub.Config) {window.MathJax.Hub.Config({SVG: {font: \"STIX-Web\"}});}</script>                <script type=\"text/javascript\">window.PlotlyConfig = {MathJaxConfig: 'local'};</script>\n",
              "        <script charset=\"utf-8\" src=\"https://cdn.plot.ly/plotly-2.35.2.min.js\"></script>                <div id=\"fdbeb9de-21d2-4641-9935-30c6bdc8c1d4\" class=\"plotly-graph-div\" style=\"height:525px; width:100%;\"></div>            <script type=\"text/javascript\">                                    window.PLOTLYENV=window.PLOTLYENV || {};                                    if (document.getElementById(\"fdbeb9de-21d2-4641-9935-30c6bdc8c1d4\")) {                    Plotly.newPlot(                        \"fdbeb9de-21d2-4641-9935-30c6bdc8c1d4\",                        [{\"hovertemplate\":\"xG=%{x}\\u003cbr\\u003exGA=%{y}\\u003cbr\\u003eTeam=%{text}\\u003cextra\\u003e\\u003c\\u002fextra\\u003e\",\"legendgroup\":\"\",\"marker\":{\"color\":\"#636efa\",\"symbol\":\"circle\"},\"mode\":\"markers+text\",\"name\":\"\",\"orientation\":\"v\",\"showlegend\":false,\"text\":[\"Arsenal\",\"Bournemouth\",\"Tottenham\",\"Sunderland\",\"Manchester City\",\"Manchester United\",\"Liverpool\",\"Aston Villa\",\"Chelsea\",\"Crystal Palace\",\"Brentford\",\"Newcastle United\",\"Brighton\",\"Everton\",\"Leeds United\",\"Burnley\",\"Fulham\",\"Nottingham Forest\",\"West Ham\",\"Wolves\"],\"x\":[14.6,11.0,9.9,10.5,15.9,16.3,15.8,7.1,13.4,11.7,14.9,11.9,13.2,12.5,11.5,6.8,9.4,8.4,7.6,9.2],\"xaxis\":\"x\",\"y\":[5.2,11.1,10.7,10.4,9.0,13.6,13.0,11.8,13.1,7.5,12.2,7.0,11.8,13.6,9.0,11.8,14.6,13.9,14.8,11.4],\"yaxis\":\"y\",\"type\":\"scatter\",\"textposition\":\"top center\"}],                        {\"template\":{\"data\":{\"barpolar\":[{\"marker\":{\"line\":{\"color\":\"white\",\"width\":0.5},\"pattern\":{\"fillmode\":\"overlay\",\"size\":10,\"solidity\":0.2}},\"type\":\"barpolar\"}],\"bar\":[{\"error_x\":{\"color\":\"#2a3f5f\"},\"error_y\":{\"color\":\"#2a3f5f\"},\"marker\":{\"line\":{\"color\":\"white\",\"width\":0.5},\"pattern\":{\"fillmode\":\"overlay\",\"size\":10,\"solidity\":0.2}},\"type\":\"bar\"}],\"carpet\":[{\"aaxis\":{\"endlinecolor\":\"#2a3f5f\",\"gridcolor\":\"#C8D4E3\",\"linecolor\":\"#C8D4E3\",\"minorgridcolor\":\"#C8D4E3\",\"startlinecolor\":\"#2a3f5f\"},\"baxis\":{\"endlinecolor\":\"#2a3f5f\",\"gridcolor\":\"#C8D4E3\",\"linecolor\":\"#C8D4E3\",\"minorgridcolor\":\"#C8D4E3\",\"startlinecolor\":\"#2a3f5f\"},\"type\":\"carpet\"}],\"choropleth\":[{\"colorbar\":{\"outlinewidth\":0,\"ticks\":\"\"},\"type\":\"choropleth\"}],\"contourcarpet\":[{\"colorbar\":{\"outlinewidth\":0,\"ticks\":\"\"},\"type\":\"contourcarpet\"}],\"contour\":[{\"colorbar\":{\"outlinewidth\":0,\"ticks\":\"\"},\"colorscale\":[[0.0,\"#0d0887\"],[0.1111111111111111,\"#46039f\"],[0.2222222222222222,\"#7201a8\"],[0.3333333333333333,\"#9c179e\"],[0.4444444444444444,\"#bd3786\"],[0.5555555555555556,\"#d8576b\"],[0.6666666666666666,\"#ed7953\"],[0.7777777777777778,\"#fb9f3a\"],[0.8888888888888888,\"#fdca26\"],[1.0,\"#f0f921\"]],\"type\":\"contour\"}],\"heatmapgl\":[{\"colorbar\":{\"outlinewidth\":0,\"ticks\":\"\"},\"colorscale\":[[0.0,\"#0d0887\"],[0.1111111111111111,\"#46039f\"],[0.2222222222222222,\"#7201a8\"],[0.3333333333333333,\"#9c179e\"],[0.4444444444444444,\"#bd3786\"],[0.5555555555555556,\"#d8576b\"],[0.6666666666666666,\"#ed7953\"],[0.7777777777777778,\"#fb9f3a\"],[0.8888888888888888,\"#fdca26\"],[1.0,\"#f0f921\"]],\"type\":\"heatmapgl\"}],\"heatmap\":[{\"colorbar\":{\"outlinewidth\":0,\"ticks\":\"\"},\"colorscale\":[[0.0,\"#0d0887\"],[0.1111111111111111,\"#46039f\"],[0.2222222222222222,\"#7201a8\"],[0.3333333333333333,\"#9c179e\"],[0.4444444444444444,\"#bd3786\"],[0.5555555555555556,\"#d8576b\"],[0.6666666666666666,\"#ed7953\"],[0.7777777777777778,\"#fb9f3a\"],[0.8888888888888888,\"#fdca26\"],[1.0,\"#f0f921\"]],\"type\":\"heatmap\"}],\"histogram2dcontour\":[{\"colorbar\":{\"outlinewidth\":0,\"ticks\":\"\"},\"colorscale\":[[0.0,\"#0d0887\"],[0.1111111111111111,\"#46039f\"],[0.2222222222222222,\"#7201a8\"],[0.3333333333333333,\"#9c179e\"],[0.4444444444444444,\"#bd3786\"],[0.5555555555555556,\"#d8576b\"],[0.6666666666666666,\"#ed7953\"],[0.7777777777777778,\"#fb9f3a\"],[0.8888888888888888,\"#fdca26\"],[1.0,\"#f0f921\"]],\"type\":\"histogram2dcontour\"}],\"histogram2d\":[{\"colorbar\":{\"outlinewidth\":0,\"ticks\":\"\"},\"colorscale\":[[0.0,\"#0d0887\"],[0.1111111111111111,\"#46039f\"],[0.2222222222222222,\"#7201a8\"],[0.3333333333333333,\"#9c179e\"],[0.4444444444444444,\"#bd3786\"],[0.5555555555555556,\"#d8576b\"],[0.6666666666666666,\"#ed7953\"],[0.7777777777777778,\"#fb9f3a\"],[0.8888888888888888,\"#fdca26\"],[1.0,\"#f0f921\"]],\"type\":\"histogram2d\"}],\"histogram\":[{\"marker\":{\"pattern\":{\"fillmode\":\"overlay\",\"size\":10,\"solidity\":0.2}},\"type\":\"histogram\"}],\"mesh3d\":[{\"colorbar\":{\"outlinewidth\":0,\"ticks\":\"\"},\"type\":\"mesh3d\"}],\"parcoords\":[{\"line\":{\"colorbar\":{\"outlinewidth\":0,\"ticks\":\"\"}},\"type\":\"parcoords\"}],\"pie\":[{\"automargin\":true,\"type\":\"pie\"}],\"scatter3d\":[{\"line\":{\"colorbar\":{\"outlinewidth\":0,\"ticks\":\"\"}},\"marker\":{\"colorbar\":{\"outlinewidth\":0,\"ticks\":\"\"}},\"type\":\"scatter3d\"}],\"scattercarpet\":[{\"marker\":{\"colorbar\":{\"outlinewidth\":0,\"ticks\":\"\"}},\"type\":\"scattercarpet\"}],\"scattergeo\":[{\"marker\":{\"colorbar\":{\"outlinewidth\":0,\"ticks\":\"\"}},\"type\":\"scattergeo\"}],\"scattergl\":[{\"marker\":{\"colorbar\":{\"outlinewidth\":0,\"ticks\":\"\"}},\"type\":\"scattergl\"}],\"scattermapbox\":[{\"marker\":{\"colorbar\":{\"outlinewidth\":0,\"ticks\":\"\"}},\"type\":\"scattermapbox\"}],\"scatterpolargl\":[{\"marker\":{\"colorbar\":{\"outlinewidth\":0,\"ticks\":\"\"}},\"type\":\"scatterpolargl\"}],\"scatterpolar\":[{\"marker\":{\"colorbar\":{\"outlinewidth\":0,\"ticks\":\"\"}},\"type\":\"scatterpolar\"}],\"scatter\":[{\"fillpattern\":{\"fillmode\":\"overlay\",\"size\":10,\"solidity\":0.2},\"type\":\"scatter\"}],\"scatterternary\":[{\"marker\":{\"colorbar\":{\"outlinewidth\":0,\"ticks\":\"\"}},\"type\":\"scatterternary\"}],\"surface\":[{\"colorbar\":{\"outlinewidth\":0,\"ticks\":\"\"},\"colorscale\":[[0.0,\"#0d0887\"],[0.1111111111111111,\"#46039f\"],[0.2222222222222222,\"#7201a8\"],[0.3333333333333333,\"#9c179e\"],[0.4444444444444444,\"#bd3786\"],[0.5555555555555556,\"#d8576b\"],[0.6666666666666666,\"#ed7953\"],[0.7777777777777778,\"#fb9f3a\"],[0.8888888888888888,\"#fdca26\"],[1.0,\"#f0f921\"]],\"type\":\"surface\"}],\"table\":[{\"cells\":{\"fill\":{\"color\":\"#EBF0F8\"},\"line\":{\"color\":\"white\"}},\"header\":{\"fill\":{\"color\":\"#C8D4E3\"},\"line\":{\"color\":\"white\"}},\"type\":\"table\"}]},\"layout\":{\"annotationdefaults\":{\"arrowcolor\":\"#2a3f5f\",\"arrowhead\":0,\"arrowwidth\":1},\"autotypenumbers\":\"strict\",\"coloraxis\":{\"colorbar\":{\"outlinewidth\":0,\"ticks\":\"\"}},\"colorscale\":{\"diverging\":[[0,\"#8e0152\"],[0.1,\"#c51b7d\"],[0.2,\"#de77ae\"],[0.3,\"#f1b6da\"],[0.4,\"#fde0ef\"],[0.5,\"#f7f7f7\"],[0.6,\"#e6f5d0\"],[0.7,\"#b8e186\"],[0.8,\"#7fbc41\"],[0.9,\"#4d9221\"],[1,\"#276419\"]],\"sequential\":[[0.0,\"#0d0887\"],[0.1111111111111111,\"#46039f\"],[0.2222222222222222,\"#7201a8\"],[0.3333333333333333,\"#9c179e\"],[0.4444444444444444,\"#bd3786\"],[0.5555555555555556,\"#d8576b\"],[0.6666666666666666,\"#ed7953\"],[0.7777777777777778,\"#fb9f3a\"],[0.8888888888888888,\"#fdca26\"],[1.0,\"#f0f921\"]],\"sequentialminus\":[[0.0,\"#0d0887\"],[0.1111111111111111,\"#46039f\"],[0.2222222222222222,\"#7201a8\"],[0.3333333333333333,\"#9c179e\"],[0.4444444444444444,\"#bd3786\"],[0.5555555555555556,\"#d8576b\"],[0.6666666666666666,\"#ed7953\"],[0.7777777777777778,\"#fb9f3a\"],[0.8888888888888888,\"#fdca26\"],[1.0,\"#f0f921\"]]},\"colorway\":[\"#636efa\",\"#EF553B\",\"#00cc96\",\"#ab63fa\",\"#FFA15A\",\"#19d3f3\",\"#FF6692\",\"#B6E880\",\"#FF97FF\",\"#FECB52\"],\"font\":{\"color\":\"#2a3f5f\"},\"geo\":{\"bgcolor\":\"white\",\"lakecolor\":\"white\",\"landcolor\":\"white\",\"showlakes\":true,\"showland\":true,\"subunitcolor\":\"#C8D4E3\"},\"hoverlabel\":{\"align\":\"left\"},\"hovermode\":\"closest\",\"mapbox\":{\"style\":\"light\"},\"paper_bgcolor\":\"white\",\"plot_bgcolor\":\"white\",\"polar\":{\"angularaxis\":{\"gridcolor\":\"#EBF0F8\",\"linecolor\":\"#EBF0F8\",\"ticks\":\"\"},\"bgcolor\":\"white\",\"radialaxis\":{\"gridcolor\":\"#EBF0F8\",\"linecolor\":\"#EBF0F8\",\"ticks\":\"\"}},\"scene\":{\"xaxis\":{\"backgroundcolor\":\"white\",\"gridcolor\":\"#DFE8F3\",\"gridwidth\":2,\"linecolor\":\"#EBF0F8\",\"showbackground\":true,\"ticks\":\"\",\"zerolinecolor\":\"#EBF0F8\"},\"yaxis\":{\"backgroundcolor\":\"white\",\"gridcolor\":\"#DFE8F3\",\"gridwidth\":2,\"linecolor\":\"#EBF0F8\",\"showbackground\":true,\"ticks\":\"\",\"zerolinecolor\":\"#EBF0F8\"},\"zaxis\":{\"backgroundcolor\":\"white\",\"gridcolor\":\"#DFE8F3\",\"gridwidth\":2,\"linecolor\":\"#EBF0F8\",\"showbackground\":true,\"ticks\":\"\",\"zerolinecolor\":\"#EBF0F8\"}},\"shapedefaults\":{\"line\":{\"color\":\"#2a3f5f\"}},\"ternary\":{\"aaxis\":{\"gridcolor\":\"#DFE8F3\",\"linecolor\":\"#A2B1C6\",\"ticks\":\"\"},\"baxis\":{\"gridcolor\":\"#DFE8F3\",\"linecolor\":\"#A2B1C6\",\"ticks\":\"\"},\"bgcolor\":\"white\",\"caxis\":{\"gridcolor\":\"#DFE8F3\",\"linecolor\":\"#A2B1C6\",\"ticks\":\"\"}},\"title\":{\"x\":0.05},\"xaxis\":{\"automargin\":true,\"gridcolor\":\"#EBF0F8\",\"linecolor\":\"#EBF0F8\",\"ticks\":\"\",\"title\":{\"standoff\":15},\"zerolinecolor\":\"#EBF0F8\",\"zerolinewidth\":2},\"yaxis\":{\"automargin\":true,\"gridcolor\":\"#EBF0F8\",\"linecolor\":\"#EBF0F8\",\"ticks\":\"\",\"title\":{\"standoff\":15},\"zerolinecolor\":\"#EBF0F8\",\"zerolinewidth\":2}}},\"xaxis\":{\"anchor\":\"y\",\"domain\":[0.0,1.0],\"title\":{\"text\":\"xG (Expected Goals – เกมรุก)\"}},\"yaxis\":{\"anchor\":\"x\",\"domain\":[0.0,1.0],\"title\":{\"text\":\"xGA (Expected Goals Against – เกมรับ)\"}},\"legend\":{\"tracegroupgap\":0},\"title\":{\"text\":\"กราฟที่ 2 คุณภาพเกมรุก–เกมรับ\"},\"shapes\":[{\"line\":{\"color\":\"gray\",\"dash\":\"dash\"},\"type\":\"line\",\"x0\":6.8,\"x1\":16.3,\"y0\":6.8,\"y1\":16.3}]},                        {\"responsive\": true}                    ).then(function(){\n",
              "                            \n",
              "var gd = document.getElementById('fdbeb9de-21d2-4641-9935-30c6bdc8c1d4');\n",
              "var x = new MutationObserver(function (mutations, observer) {{\n",
              "        var display = window.getComputedStyle(gd).display;\n",
              "        if (!display || display === 'none') {{\n",
              "            console.log([gd, 'removed!']);\n",
              "            Plotly.purge(gd);\n",
              "            observer.disconnect();\n",
              "        }}\n",
              "}});\n",
              "\n",
              "// Listen for the removal of the full notebook cells\n",
              "var notebookContainer = gd.closest('#notebook-container');\n",
              "if (notebookContainer) {{\n",
              "    x.observe(notebookContainer, {childList: true});\n",
              "}}\n",
              "\n",
              "// Listen for the clearing of the current output cell\n",
              "var outputEl = gd.closest('.output');\n",
              "if (outputEl) {{\n",
              "    x.observe(outputEl, {childList: true});\n",
              "}}\n",
              "\n",
              "                        })                };                            </script>        </div>\n",
              "</body>\n",
              "</html>"
            ]
          },
          "metadata": {}
        }
      ]
    },
    {
      "cell_type": "markdown",
      "source": [
        "คำอธิบายกราฟ\n",
        "\n",
        "*   ทีมอยู่เหนือเส้นประ -> xGA มากกว่า xG (เกมรับแย่กว่ารุก) แสดงว่าทีมเสียโอกาสเยอะ ต้องปรับเกมรับ\n",
        "*   ทีมอยู่ต่ำกว่าเส้นประ -> xG มากกว่า xGA (เกมรุกมีคุณภาพเหนือกว่าเกมรับ) แสดงว่าทีมแข็งแกร่ง สมดุลดี\n",
        "*   ทีมอยู่ด้านซ้ายของกราฟ -> xG ต่ำ (ทีมสร้างโอกาสได้น้อย เกมรุกอ่อน)\n",
        "*   ทีมอยู่ด้านขวาของกราฟ -> xG สูง (ทีมสร้างโอกาสได้มาก เกมรุกค่อนข้างดี)\n",
        "\n",
        "จาก **กราฟที่ 2** พบว่า Arsenal และ Manchester City\n",
        "มีคุณภาพเกมรุกและเกมรับ สูงกว่าค่าเฉลี่ยของลีก ซึ่งแสดงถึงความสมดุลของคุณภาพทั้งสองด้าน ซึ่งสอดคล้องกับอันดับตารางคะแนนจริง\n",
        "ในขณะที่ทีม Liverpool และ Manchester United\n",
        "แม้จะมีเกมรุกที่อันตราย (xG สูง) แต่เกมรับยังเสียโอกาสมาก (xGA สูงเช่นกัน)\n",
        "ในขณะที่ทีมท้ายตารางอย่าง Wolves และ Nottingham Forest\n",
        "มีทั้ง xG และ xGA ต่ำ แสดงถึงศักยภาพโดยรวมที่ยังเป็นรองทีมอื่นๆ อย่างชัดเจน\n",
        "\n",
        "\n"
      ],
      "metadata": {
        "id": "Bg0NzxALBwsL"
      }
    },
    {
      "cell_type": "code",
      "source": [
        "df_long = df.melt(id_vars=[\"Team\"], value_vars=[\"GF\", \"GA\"], var_name=\"Stat\", value_name=\"Goals\")\n",
        "fig = px.bar(df_long, x=\"Team\", y=\"Goals\", color=\"Stat\", barmode=\"group\", title=\"กราฟที่ 3 ประตูได้ (GF) และประตูเสีย (GA)\", color_discrete_map={\"GF\": \"#9CCEC1\", \"GA\": \"#FAC8D5\" })\n",
        "fig.update_xaxes(type='category', tickangle=270)\n",
        "fig.show()\n"
      ],
      "metadata": {
        "colab": {
          "base_uri": "https://localhost:8080/",
          "height": 542
        },
        "id": "uAmRhdxUDjDF",
        "outputId": "81c462df-a79c-48e8-df82-b22559fcb406"
      },
      "execution_count": 38,
      "outputs": [
        {
          "output_type": "display_data",
          "data": {
            "text/html": [
              "<html>\n",
              "<head><meta charset=\"utf-8\" /></head>\n",
              "<body>\n",
              "    <div>            <script src=\"https://cdnjs.cloudflare.com/ajax/libs/mathjax/2.7.5/MathJax.js?config=TeX-AMS-MML_SVG\"></script><script type=\"text/javascript\">if (window.MathJax && window.MathJax.Hub && window.MathJax.Hub.Config) {window.MathJax.Hub.Config({SVG: {font: \"STIX-Web\"}});}</script>                <script type=\"text/javascript\">window.PlotlyConfig = {MathJaxConfig: 'local'};</script>\n",
              "        <script charset=\"utf-8\" src=\"https://cdn.plot.ly/plotly-2.35.2.min.js\"></script>                <div id=\"378cebbc-b532-4ce6-9c4f-667b5aab3804\" class=\"plotly-graph-div\" style=\"height:525px; width:100%;\"></div>            <script type=\"text/javascript\">                                    window.PLOTLYENV=window.PLOTLYENV || {};                                    if (document.getElementById(\"378cebbc-b532-4ce6-9c4f-667b5aab3804\")) {                    Plotly.newPlot(                        \"378cebbc-b532-4ce6-9c4f-667b5aab3804\",                        [{\"alignmentgroup\":\"True\",\"hovertemplate\":\"Stat=GF\\u003cbr\\u003eTeam=%{x}\\u003cbr\\u003eGoals=%{y}\\u003cextra\\u003e\\u003c\\u002fextra\\u003e\",\"legendgroup\":\"GF\",\"marker\":{\"color\":\"#9CCEC1\",\"pattern\":{\"shape\":\"\"}},\"name\":\"GF\",\"offsetgroup\":\"GF\",\"orientation\":\"v\",\"showlegend\":true,\"textposition\":\"auto\",\"x\":[\"Arsenal\",\"Bournemouth\",\"Tottenham\",\"Sunderland\",\"Manchester City\",\"Manchester United\",\"Liverpool\",\"Aston Villa\",\"Chelsea\",\"Crystal Palace\",\"Brentford\",\"Newcastle United\",\"Brighton\",\"Everton\",\"Leeds United\",\"Burnley\",\"Fulham\",\"Nottingham Forest\",\"West Ham\",\"Wolves\"],\"xaxis\":\"x\",\"y\":[16,16,17,15,17,15,16,11,12,12,14,14,14,9,9,12,9,7,9,7],\"yaxis\":\"y\",\"type\":\"bar\"},{\"alignmentgroup\":\"True\",\"hovertemplate\":\"Stat=GA\\u003cbr\\u003eTeam=%{x}\\u003cbr\\u003eGoals=%{y}\\u003cextra\\u003e\\u003c\\u002fextra\\u003e\",\"legendgroup\":\"GA\",\"marker\":{\"color\":\"#FAC8D5\",\"pattern\":{\"shape\":\"\"}},\"name\":\"GA\",\"offsetgroup\":\"GA\",\"orientation\":\"v\",\"showlegend\":true,\"textposition\":\"auto\",\"x\":[\"Arsenal\",\"Bournemouth\",\"Tottenham\",\"Sunderland\",\"Manchester City\",\"Manchester United\",\"Liverpool\",\"Aston Villa\",\"Chelsea\",\"Crystal Palace\",\"Brentford\",\"Newcastle United\",\"Brighton\",\"Everton\",\"Leeds United\",\"Burnley\",\"Fulham\",\"Nottingham Forest\",\"West Ham\",\"Wolves\"],\"xaxis\":\"x\",\"y\":[3,11,10,11,7,14,14,8,11,9,13,13,15,12,14,17,15,12,20,19],\"yaxis\":\"y\",\"type\":\"bar\"}],                        {\"template\":{\"data\":{\"histogram2dcontour\":[{\"type\":\"histogram2dcontour\",\"colorbar\":{\"outlinewidth\":0,\"ticks\":\"\"},\"colorscale\":[[0.0,\"#0d0887\"],[0.1111111111111111,\"#46039f\"],[0.2222222222222222,\"#7201a8\"],[0.3333333333333333,\"#9c179e\"],[0.4444444444444444,\"#bd3786\"],[0.5555555555555556,\"#d8576b\"],[0.6666666666666666,\"#ed7953\"],[0.7777777777777778,\"#fb9f3a\"],[0.8888888888888888,\"#fdca26\"],[1.0,\"#f0f921\"]]}],\"choropleth\":[{\"type\":\"choropleth\",\"colorbar\":{\"outlinewidth\":0,\"ticks\":\"\"}}],\"histogram2d\":[{\"type\":\"histogram2d\",\"colorbar\":{\"outlinewidth\":0,\"ticks\":\"\"},\"colorscale\":[[0.0,\"#0d0887\"],[0.1111111111111111,\"#46039f\"],[0.2222222222222222,\"#7201a8\"],[0.3333333333333333,\"#9c179e\"],[0.4444444444444444,\"#bd3786\"],[0.5555555555555556,\"#d8576b\"],[0.6666666666666666,\"#ed7953\"],[0.7777777777777778,\"#fb9f3a\"],[0.8888888888888888,\"#fdca26\"],[1.0,\"#f0f921\"]]}],\"heatmap\":[{\"type\":\"heatmap\",\"colorbar\":{\"outlinewidth\":0,\"ticks\":\"\"},\"colorscale\":[[0.0,\"#0d0887\"],[0.1111111111111111,\"#46039f\"],[0.2222222222222222,\"#7201a8\"],[0.3333333333333333,\"#9c179e\"],[0.4444444444444444,\"#bd3786\"],[0.5555555555555556,\"#d8576b\"],[0.6666666666666666,\"#ed7953\"],[0.7777777777777778,\"#fb9f3a\"],[0.8888888888888888,\"#fdca26\"],[1.0,\"#f0f921\"]]}],\"heatmapgl\":[{\"type\":\"heatmapgl\",\"colorbar\":{\"outlinewidth\":0,\"ticks\":\"\"},\"colorscale\":[[0.0,\"#0d0887\"],[0.1111111111111111,\"#46039f\"],[0.2222222222222222,\"#7201a8\"],[0.3333333333333333,\"#9c179e\"],[0.4444444444444444,\"#bd3786\"],[0.5555555555555556,\"#d8576b\"],[0.6666666666666666,\"#ed7953\"],[0.7777777777777778,\"#fb9f3a\"],[0.8888888888888888,\"#fdca26\"],[1.0,\"#f0f921\"]]}],\"contourcarpet\":[{\"type\":\"contourcarpet\",\"colorbar\":{\"outlinewidth\":0,\"ticks\":\"\"}}],\"contour\":[{\"type\":\"contour\",\"colorbar\":{\"outlinewidth\":0,\"ticks\":\"\"},\"colorscale\":[[0.0,\"#0d0887\"],[0.1111111111111111,\"#46039f\"],[0.2222222222222222,\"#7201a8\"],[0.3333333333333333,\"#9c179e\"],[0.4444444444444444,\"#bd3786\"],[0.5555555555555556,\"#d8576b\"],[0.6666666666666666,\"#ed7953\"],[0.7777777777777778,\"#fb9f3a\"],[0.8888888888888888,\"#fdca26\"],[1.0,\"#f0f921\"]]}],\"surface\":[{\"type\":\"surface\",\"colorbar\":{\"outlinewidth\":0,\"ticks\":\"\"},\"colorscale\":[[0.0,\"#0d0887\"],[0.1111111111111111,\"#46039f\"],[0.2222222222222222,\"#7201a8\"],[0.3333333333333333,\"#9c179e\"],[0.4444444444444444,\"#bd3786\"],[0.5555555555555556,\"#d8576b\"],[0.6666666666666666,\"#ed7953\"],[0.7777777777777778,\"#fb9f3a\"],[0.8888888888888888,\"#fdca26\"],[1.0,\"#f0f921\"]]}],\"mesh3d\":[{\"type\":\"mesh3d\",\"colorbar\":{\"outlinewidth\":0,\"ticks\":\"\"}}],\"scatter\":[{\"fillpattern\":{\"fillmode\":\"overlay\",\"size\":10,\"solidity\":0.2},\"type\":\"scatter\"}],\"parcoords\":[{\"type\":\"parcoords\",\"line\":{\"colorbar\":{\"outlinewidth\":0,\"ticks\":\"\"}}}],\"scatterpolargl\":[{\"type\":\"scatterpolargl\",\"marker\":{\"colorbar\":{\"outlinewidth\":0,\"ticks\":\"\"}}}],\"bar\":[{\"error_x\":{\"color\":\"#2a3f5f\"},\"error_y\":{\"color\":\"#2a3f5f\"},\"marker\":{\"line\":{\"color\":\"#E5ECF6\",\"width\":0.5},\"pattern\":{\"fillmode\":\"overlay\",\"size\":10,\"solidity\":0.2}},\"type\":\"bar\"}],\"scattergeo\":[{\"type\":\"scattergeo\",\"marker\":{\"colorbar\":{\"outlinewidth\":0,\"ticks\":\"\"}}}],\"scatterpolar\":[{\"type\":\"scatterpolar\",\"marker\":{\"colorbar\":{\"outlinewidth\":0,\"ticks\":\"\"}}}],\"histogram\":[{\"marker\":{\"pattern\":{\"fillmode\":\"overlay\",\"size\":10,\"solidity\":0.2}},\"type\":\"histogram\"}],\"scattergl\":[{\"type\":\"scattergl\",\"marker\":{\"colorbar\":{\"outlinewidth\":0,\"ticks\":\"\"}}}],\"scatter3d\":[{\"type\":\"scatter3d\",\"line\":{\"colorbar\":{\"outlinewidth\":0,\"ticks\":\"\"}},\"marker\":{\"colorbar\":{\"outlinewidth\":0,\"ticks\":\"\"}}}],\"scattermapbox\":[{\"type\":\"scattermapbox\",\"marker\":{\"colorbar\":{\"outlinewidth\":0,\"ticks\":\"\"}}}],\"scatterternary\":[{\"type\":\"scatterternary\",\"marker\":{\"colorbar\":{\"outlinewidth\":0,\"ticks\":\"\"}}}],\"scattercarpet\":[{\"type\":\"scattercarpet\",\"marker\":{\"colorbar\":{\"outlinewidth\":0,\"ticks\":\"\"}}}],\"carpet\":[{\"aaxis\":{\"endlinecolor\":\"#2a3f5f\",\"gridcolor\":\"white\",\"linecolor\":\"white\",\"minorgridcolor\":\"white\",\"startlinecolor\":\"#2a3f5f\"},\"baxis\":{\"endlinecolor\":\"#2a3f5f\",\"gridcolor\":\"white\",\"linecolor\":\"white\",\"minorgridcolor\":\"white\",\"startlinecolor\":\"#2a3f5f\"},\"type\":\"carpet\"}],\"table\":[{\"cells\":{\"fill\":{\"color\":\"#EBF0F8\"},\"line\":{\"color\":\"white\"}},\"header\":{\"fill\":{\"color\":\"#C8D4E3\"},\"line\":{\"color\":\"white\"}},\"type\":\"table\"}],\"barpolar\":[{\"marker\":{\"line\":{\"color\":\"#E5ECF6\",\"width\":0.5},\"pattern\":{\"fillmode\":\"overlay\",\"size\":10,\"solidity\":0.2}},\"type\":\"barpolar\"}],\"pie\":[{\"automargin\":true,\"type\":\"pie\"}]},\"layout\":{\"autotypenumbers\":\"strict\",\"colorway\":[\"#636efa\",\"#EF553B\",\"#00cc96\",\"#ab63fa\",\"#FFA15A\",\"#19d3f3\",\"#FF6692\",\"#B6E880\",\"#FF97FF\",\"#FECB52\"],\"font\":{\"color\":\"#2a3f5f\"},\"hovermode\":\"closest\",\"hoverlabel\":{\"align\":\"left\"},\"paper_bgcolor\":\"white\",\"plot_bgcolor\":\"#E5ECF6\",\"polar\":{\"bgcolor\":\"#E5ECF6\",\"angularaxis\":{\"gridcolor\":\"white\",\"linecolor\":\"white\",\"ticks\":\"\"},\"radialaxis\":{\"gridcolor\":\"white\",\"linecolor\":\"white\",\"ticks\":\"\"}},\"ternary\":{\"bgcolor\":\"#E5ECF6\",\"aaxis\":{\"gridcolor\":\"white\",\"linecolor\":\"white\",\"ticks\":\"\"},\"baxis\":{\"gridcolor\":\"white\",\"linecolor\":\"white\",\"ticks\":\"\"},\"caxis\":{\"gridcolor\":\"white\",\"linecolor\":\"white\",\"ticks\":\"\"}},\"coloraxis\":{\"colorbar\":{\"outlinewidth\":0,\"ticks\":\"\"}},\"colorscale\":{\"sequential\":[[0.0,\"#0d0887\"],[0.1111111111111111,\"#46039f\"],[0.2222222222222222,\"#7201a8\"],[0.3333333333333333,\"#9c179e\"],[0.4444444444444444,\"#bd3786\"],[0.5555555555555556,\"#d8576b\"],[0.6666666666666666,\"#ed7953\"],[0.7777777777777778,\"#fb9f3a\"],[0.8888888888888888,\"#fdca26\"],[1.0,\"#f0f921\"]],\"sequentialminus\":[[0.0,\"#0d0887\"],[0.1111111111111111,\"#46039f\"],[0.2222222222222222,\"#7201a8\"],[0.3333333333333333,\"#9c179e\"],[0.4444444444444444,\"#bd3786\"],[0.5555555555555556,\"#d8576b\"],[0.6666666666666666,\"#ed7953\"],[0.7777777777777778,\"#fb9f3a\"],[0.8888888888888888,\"#fdca26\"],[1.0,\"#f0f921\"]],\"diverging\":[[0,\"#8e0152\"],[0.1,\"#c51b7d\"],[0.2,\"#de77ae\"],[0.3,\"#f1b6da\"],[0.4,\"#fde0ef\"],[0.5,\"#f7f7f7\"],[0.6,\"#e6f5d0\"],[0.7,\"#b8e186\"],[0.8,\"#7fbc41\"],[0.9,\"#4d9221\"],[1,\"#276419\"]]},\"xaxis\":{\"gridcolor\":\"white\",\"linecolor\":\"white\",\"ticks\":\"\",\"title\":{\"standoff\":15},\"zerolinecolor\":\"white\",\"automargin\":true,\"zerolinewidth\":2},\"yaxis\":{\"gridcolor\":\"white\",\"linecolor\":\"white\",\"ticks\":\"\",\"title\":{\"standoff\":15},\"zerolinecolor\":\"white\",\"automargin\":true,\"zerolinewidth\":2},\"scene\":{\"xaxis\":{\"backgroundcolor\":\"#E5ECF6\",\"gridcolor\":\"white\",\"linecolor\":\"white\",\"showbackground\":true,\"ticks\":\"\",\"zerolinecolor\":\"white\",\"gridwidth\":2},\"yaxis\":{\"backgroundcolor\":\"#E5ECF6\",\"gridcolor\":\"white\",\"linecolor\":\"white\",\"showbackground\":true,\"ticks\":\"\",\"zerolinecolor\":\"white\",\"gridwidth\":2},\"zaxis\":{\"backgroundcolor\":\"#E5ECF6\",\"gridcolor\":\"white\",\"linecolor\":\"white\",\"showbackground\":true,\"ticks\":\"\",\"zerolinecolor\":\"white\",\"gridwidth\":2}},\"shapedefaults\":{\"line\":{\"color\":\"#2a3f5f\"}},\"annotationdefaults\":{\"arrowcolor\":\"#2a3f5f\",\"arrowhead\":0,\"arrowwidth\":1},\"geo\":{\"bgcolor\":\"white\",\"landcolor\":\"#E5ECF6\",\"subunitcolor\":\"white\",\"showland\":true,\"showlakes\":true,\"lakecolor\":\"white\"},\"title\":{\"x\":0.05},\"mapbox\":{\"style\":\"light\"}}},\"xaxis\":{\"anchor\":\"y\",\"domain\":[0.0,1.0],\"title\":{\"text\":\"Team\"},\"type\":\"category\",\"tickangle\":-90},\"yaxis\":{\"anchor\":\"x\",\"domain\":[0.0,1.0],\"title\":{\"text\":\"Goals\"}},\"legend\":{\"title\":{\"text\":\"Stat\"},\"tracegroupgap\":0},\"title\":{\"text\":\"กราฟที่ 3 ประตูได้ (GF) และประตูเสีย (GA)\"},\"barmode\":\"group\"},                        {\"responsive\": true}                    ).then(function(){\n",
              "                            \n",
              "var gd = document.getElementById('378cebbc-b532-4ce6-9c4f-667b5aab3804');\n",
              "var x = new MutationObserver(function (mutations, observer) {{\n",
              "        var display = window.getComputedStyle(gd).display;\n",
              "        if (!display || display === 'none') {{\n",
              "            console.log([gd, 'removed!']);\n",
              "            Plotly.purge(gd);\n",
              "            observer.disconnect();\n",
              "        }}\n",
              "}});\n",
              "\n",
              "// Listen for the removal of the full notebook cells\n",
              "var notebookContainer = gd.closest('#notebook-container');\n",
              "if (notebookContainer) {{\n",
              "    x.observe(notebookContainer, {childList: true});\n",
              "}}\n",
              "\n",
              "// Listen for the clearing of the current output cell\n",
              "var outputEl = gd.closest('.output');\n",
              "if (outputEl) {{\n",
              "    x.observe(outputEl, {childList: true});\n",
              "}}\n",
              "\n",
              "                        })                };                            </script>        </div>\n",
              "</body>\n",
              "</html>"
            ]
          },
          "metadata": {}
        }
      ]
    },
    {
      "cell_type": "markdown",
      "source": [
        "จาก **กราฟที่ 3** จะเห็นว่า Arsenal และ Manchester City\n",
        "มีเกมรุกและเกมรับที่เหนือกว่าทีมอื่นอย่างชัดเจน โดยยิงได้คะแนนมากและเสียประตูน้อย\n",
        "ส่วนทีม Liverpool, Manchester United และ Tottenham\n",
        "ถึงแม้ว่าจะมีเกมรุกดี แต่ยังต้องปรับปรุงเกมรับที่เสียประตูมากเกินไป\n",
        "ในขณะที่ทีมระดับกลางลงมา เช่น Bournemouth และ Sunderland\n",
        "มีผลงานที่สมดุลแต่ยังขาดความเด็ดขาดในการเก็บชัยชนะ"
      ],
      "metadata": {
        "id": "mvymaalAGA36"
      }
    },
    {
      "cell_type": "code",
      "source": [],
      "metadata": {
        "id": "LD0jhKB1GWK6"
      },
      "execution_count": null,
      "outputs": []
    }
  ]
}